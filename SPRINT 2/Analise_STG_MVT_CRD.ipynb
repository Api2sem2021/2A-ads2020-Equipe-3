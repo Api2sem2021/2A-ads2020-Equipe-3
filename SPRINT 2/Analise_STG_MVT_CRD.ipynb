{
 "cells": [
  {
   "cell_type": "markdown",
   "metadata": {},
   "source": [
    "# Tratamento dos dados"
   ]
  },
  {
   "cell_type": "code",
   "execution_count": 42,
   "metadata": {},
   "outputs": [],
   "source": [
    "#Importo as bibliotecas necessárias\n",
    "import pandas as pd\n",
    "import matplotlib.pyplot as plt\n",
    "import numpy as np\n",
    "import seaborn as sns"
   ]
  },
  {
   "cell_type": "code",
   "execution_count": 43,
   "metadata": {},
   "outputs": [],
   "source": [
    "#Defino variáveis para as tabelas que serão analisadas\n",
    "df = pd.read_excel ('STG_MVT_CRD.xlsx')\n",
    "cf = pd.read_excel ('STG_MDL.xlsx')"
   ]
  },
  {
   "cell_type": "code",
   "execution_count": 44,
   "metadata": {},
   "outputs": [
    {
     "data": {
      "text/plain": [
       "ID_STG_MVT_CRD           int64\n",
       "VLR_SDO_UTZ_CRD_RTO    float64\n",
       "VLR_TOT_FAT            float64\n",
       "VLR_MIM_FAT            float64\n",
       "VLR_PCL_FAT            float64\n",
       "QTD_CLI_CAD_POS          int64\n",
       "QTD_MVT                  int64\n",
       "DES_TIP_PSS             object\n",
       "ID_FNT_ITT               int64\n",
       "COD_MDL                 object\n",
       "DAT_RSS_FNT_ITT         object\n",
       "DAT_INC_DBO             object\n",
       "dtype: object"
      ]
     },
     "execution_count": 44,
     "metadata": {},
     "output_type": "execute_result"
    }
   ],
   "source": [
    "#Verifico os tipos dos dados inseridos\n",
    "df.dtypes"
   ]
  },
  {
   "cell_type": "code",
   "execution_count": 45,
   "metadata": {},
   "outputs": [
    {
     "name": "stdout",
     "output_type": "stream",
     "text": [
      "459551683.82\n",
      "738723734.09\n",
      "28681807.59\n",
      "611125080.38\n",
      "21526.09\n",
      "4607336.62\n",
      "2638330685.39\n",
      "1838029024.97\n",
      "9738712.71\n",
      "nan\n",
      "94967215.47\n",
      "3556795492.4900002\n",
      "18344465.14\n",
      "1733950.32\n",
      "nan\n",
      "nan\n",
      "nan\n",
      "nan\n",
      "nan\n",
      "nan\n",
      "nan\n",
      "nan\n",
      "nan\n",
      "nan\n",
      "nan\n",
      "nan\n",
      "nan\n",
      "nan\n",
      "nan\n",
      "19327671919.78\n",
      "nan\n",
      "nan\n",
      "nan\n",
      "nan\n",
      "nan\n",
      "nan\n",
      "nan\n",
      "nan\n",
      "nan\n",
      "nan\n",
      "nan\n",
      "nan\n",
      "nan\n",
      "nan\n",
      "6071737936.6\n",
      "nan\n",
      "nan\n",
      "nan\n",
      "nan\n",
      "nan\n",
      "nan\n",
      "nan\n",
      "nan\n",
      "nan\n",
      "218175760.02\n",
      "nan\n",
      "nan\n",
      "nan\n",
      "nan\n",
      "nan\n"
     ]
    }
   ],
   "source": [
    "#Converto todos os valores para acrescentar dois decimais\n",
    "for c in df.VLR_PCL_FAT:\n",
    "    d = c * 0.01\n",
    "    print (d)\n",
    "    df.VLR_PCL_FAT = df.VLR_PCL_FAT.replace(c, d)\n",
    "\n",
    "for c in df.VLR_TOT_FAT:\n",
    "    d = c * 0.01\n",
    "    print (d)\n",
    "    df.VLR_TOT_FAT = df.VLR_TOT_FAT.replace(c, d)\n",
    "    \n",
    "for c in df.VLR_MIM_FAT:\n",
    "    d = c * 0.01\n",
    "    print (d)\n",
    "    df.VLR_MIM_FAT = df.VLR_MIM_FAT.replace(c, d)\n",
    "\n",
    "for c in df.VLR_SDO_UTZ_CRD_RTO:\n",
    "    d = c * 0.01\n",
    "    print (d)\n",
    "    df.VLR_SDO_UTZ_CRD_RTO = df.VLR_SDO_UTZ_CRD_RTO.replace(c, d)"
   ]
  },
  {
   "cell_type": "code",
   "execution_count": 46,
   "metadata": {},
   "outputs": [
    {
     "name": "stdout",
     "output_type": "stream",
     "text": [
      "0     R$       459,551,683.82\n",
      "1     R$       738,723,734.09\n",
      "2     R$        28,681,807.59\n",
      "3     R$       611,125,080.38\n",
      "4     R$            21,526.09\n",
      "5     R$         4,607,336.62\n",
      "6     R$     2,638,330,685.39\n",
      "7     R$     1,838,029,024.97\n",
      "8     R$         9,738,712.71\n",
      "9     R$                  nan\n",
      "10    R$        94,967,215.47\n",
      "11    R$     3,556,795,492.49\n",
      "12    R$        18,344,465.14\n",
      "13    R$         1,733,950.32\n",
      "14    R$                  nan\n",
      "Name: VLR_PCL_FAT, dtype: object\n",
      "0     R$                  nan\n",
      "1     R$                  nan\n",
      "2     R$                  nan\n",
      "3     R$                  nan\n",
      "4     R$                  nan\n",
      "5     R$                  nan\n",
      "6     R$                  nan\n",
      "7     R$                  nan\n",
      "8     R$                  nan\n",
      "9     R$                  nan\n",
      "10    R$                  nan\n",
      "11    R$                  nan\n",
      "12    R$                  nan\n",
      "13    R$                  nan\n",
      "14    R$    19,327,671,919.78\n",
      "Name: VLR_TOT_FAT, dtype: object\n",
      "0     R$                  nan\n",
      "1     R$                  nan\n",
      "2     R$                  nan\n",
      "3     R$                  nan\n",
      "4     R$                  nan\n",
      "5     R$                  nan\n",
      "6     R$                  nan\n",
      "7     R$                  nan\n",
      "8     R$                  nan\n",
      "9     R$                  nan\n",
      "10    R$                  nan\n",
      "11    R$                  nan\n",
      "12    R$                  nan\n",
      "13    R$                  nan\n",
      "14    R$     6,071,737,936.60\n",
      "Name: VLR_MIM_FAT, dtype: object\n",
      "0     R$                  nan\n",
      "1     R$                  nan\n",
      "2     R$                  nan\n",
      "3     R$                  nan\n",
      "4     R$                  nan\n",
      "5     R$                  nan\n",
      "6     R$                  nan\n",
      "7     R$                  nan\n",
      "8     R$                  nan\n",
      "9     R$       218,175,760.02\n",
      "10    R$                  nan\n",
      "11    R$                  nan\n",
      "12    R$                  nan\n",
      "13    R$                  nan\n",
      "14    R$                  nan\n",
      "Name: VLR_SDO_UTZ_CRD_RTO, dtype: object\n"
     ]
    }
   ],
   "source": [
    "#Apenas uma visualização dos valores formato moeda\n",
    "cd = df.VLR_PCL_FAT.map('R$ {:>20,.2f}'.format)\n",
    "print (cd)\n",
    "\n",
    "cd = df.VLR_TOT_FAT.map('R$ {:>20,.2f}'.format)\n",
    "print (cd)\n",
    "\n",
    "cd = df.VLR_MIM_FAT.map('R$ {:>20,.2f}'.format)\n",
    "print (cd)\n",
    "\n",
    "cd = df.VLR_SDO_UTZ_CRD_RTO.map('R$ {:>20,.2f}'.format)\n",
    "print (cd)"
   ]
  },
  {
   "cell_type": "code",
   "execution_count": 47,
   "metadata": {},
   "outputs": [
    {
     "data": {
      "text/plain": [
       "ID_STG_MVT_CRD           int64\n",
       "VLR_SDO_UTZ_CRD_RTO    float64\n",
       "VLR_TOT_FAT            float64\n",
       "VLR_MIM_FAT            float64\n",
       "VLR_PCL_FAT            float64\n",
       "QTD_CLI_CAD_POS          int64\n",
       "QTD_MVT                  int64\n",
       "DES_TIP_PSS             object\n",
       "ID_FNT_ITT               int64\n",
       "COD_MDL                 object\n",
       "DAT_RSS_FNT_ITT         object\n",
       "DAT_INC_DBO             object\n",
       "dtype: object"
      ]
     },
     "execution_count": 47,
     "metadata": {},
     "output_type": "execute_result"
    }
   ],
   "source": [
    "#Verifico os tipos dos dados inseridos\n",
    "df.dtypes"
   ]
  },
  {
   "cell_type": "code",
   "execution_count": 48,
   "metadata": {},
   "outputs": [
    {
     "data": {
      "text/plain": [
       "<matplotlib.axes._subplots.AxesSubplot at 0x1f378cbd6c8>"
      ]
     },
     "execution_count": 48,
     "metadata": {},
     "output_type": "execute_result"
    },
    {
     "data": {
      "image/png": "[encoded data removed]",
      "text/plain": [
       "<Figure size 432x288 with 1 Axes>"
      ]
     },
     "metadata": {
      "needs_background": "light"
     },
     "output_type": "display_data"
    }
   ],
   "source": [
    "#Crio um mapa para visualizar as células vazias da tabela\n",
    "sns.heatmap(df.isnull(), cbar=False)"
   ]
  },
  {
   "cell_type": "code",
   "execution_count": 49,
   "metadata": {},
   "outputs": [],
   "source": [
    "#Solução para preencher as celulas vazias com 0\n",
    "#df = df.replace(np.nan, 0)"
   ]
  },
  {
   "cell_type": "markdown",
   "metadata": {},
   "source": [
    "# Analisando a qualidade dos dados após o tratamento"
   ]
  },
  {
   "cell_type": "code",
   "execution_count": 50,
   "metadata": {},
   "outputs": [
    {
     "data": {
      "text/html": [
       "<div>\n",
       "<style scoped>\n",
       "    .dataframe tbody tr th:only-of-type {\n",
       "        vertical-align: middle;\n",
       "    }\n",
       "\n",
       "    .dataframe tbody tr th {\n",
       "        vertical-align: top;\n",
       "    }\n",
       "\n",
       "    .dataframe thead th {\n",
       "        text-align: right;\n",
       "    }\n",
       "</style>\n",
       "<table border=\"1\" class=\"dataframe\">\n",
       "  <thead>\n",
       "    <tr style=\"text-align: right;\">\n",
       "      <th></th>\n",
       "      <th>naonulo</th>\n",
       "      <th>nulo</th>\n",
       "    </tr>\n",
       "  </thead>\n",
       "  <tbody>\n",
       "    <tr>\n",
       "      <th>Valor Parcela</th>\n",
       "      <td>100.0</td>\n",
       "      <td>0.0</td>\n",
       "    </tr>\n",
       "    <tr>\n",
       "      <th>Valor Mínimo da Fatura do Cartão de Crédito</th>\n",
       "      <td>100.0</td>\n",
       "      <td>0.0</td>\n",
       "    </tr>\n",
       "    <tr>\n",
       "      <th>Valor Total da Fatura do Cartão de Crédito</th>\n",
       "      <td>100.0</td>\n",
       "      <td>0.0</td>\n",
       "    </tr>\n",
       "    <tr>\n",
       "      <th>Quantidade de Clientes</th>\n",
       "      <td>100.0</td>\n",
       "      <td>0.0</td>\n",
       "    </tr>\n",
       "    <tr>\n",
       "      <th>Quantidade de Movimentações</th>\n",
       "      <td>100.0</td>\n",
       "      <td>0.0</td>\n",
       "    </tr>\n",
       "    <tr>\n",
       "      <th>Saldo Devedor do Cheque Especial</th>\n",
       "      <td>100.0</td>\n",
       "      <td>0.0</td>\n",
       "    </tr>\n",
       "  </tbody>\n",
       "</table>\n",
       "</div>"
      ],
      "text/plain": [
       "                                             naonulo  nulo\n",
       "Valor Parcela                                  100.0   0.0\n",
       "Valor Mínimo da Fatura do Cartão de Crédito    100.0   0.0\n",
       "Valor Total da Fatura do Cartão de Crédito     100.0   0.0\n",
       "Quantidade de Clientes                         100.0   0.0\n",
       "Quantidade de Movimentações                    100.0   0.0\n",
       "Saldo Devedor do Cheque Especial               100.0   0.0"
      ]
     },
     "execution_count": 50,
     "metadata": {},
     "output_type": "execute_result"
    }
   ],
   "source": [
    "#Defino as variáveis excluindo as modalidades que não fazem parte da categoria\n",
    "nocredcard = df[df.COD_MDL != 'D01'] #Desprezo a linha do Cartão de Crédito\n",
    "nocredcard = nocredcard[nocredcard.COD_MDL != 'E01'] #Desprezo a linha do Cheque Especial\n",
    "rotativo = df[df.COD_MDL == 'E01'] #Analiso apenas a linha do Cheque Especial\n",
    "cred = df[df.COD_MDL == 'D01'] #Analiso apenas a linha do Cartão de Crédito\n",
    "\n",
    "#Crio uma nova tabela\n",
    "datareview = pd.DataFrame({'naonulo': [nocredcard.VLR_PCL_FAT.notna().mean().round(4) * 100, cred.VLR_MIM_FAT.notna().mean().round(4) * 100, cred.VLR_TOT_FAT.notna().mean().round(4) * 100, df.QTD_CLI_CAD_POS.notna().mean().round(4) * 100, df.QTD_MVT.notna().mean().round(4) * 100, rotativo.QTD_MVT.notna().mean().round(4) * 100],\n",
    "                      'nulo': [nocredcard.VLR_PCL_FAT.isna().mean().round(4) * 100, cred.VLR_MIM_FAT.isna().mean().round(4) * 100, cred.VLR_TOT_FAT.isna().mean().round(4) * 100, df.QTD_CLI_CAD_POS.isna().mean().round(4) * 100, df.QTD_MVT.isna().mean().round(4) * 100, rotativo.QTD_MVT.isna().mean().round(4) * 100]},\n",
    "                     index=['Valor Parcela', 'Valor Mínimo da Fatura do Cartão de Crédito', 'Valor Total da Fatura do Cartão de Crédito', 'Quantidade de Clientes', 'Quantidade de Movimentações', 'Saldo Devedor do Cheque Especial'])\n",
    "datareview"
   ]
  },
  {
   "cell_type": "code",
   "execution_count": 52,
   "metadata": {},
   "outputs": [
    {
     "data": {
      "text/plain": [
       "<matplotlib.axes._subplots.AxesSubplot at 0x1f37932f508>"
      ]
     },
     "execution_count": 52,
     "metadata": {},
     "output_type": "execute_result"
    },
    {
     "data": {
      "image/png": "[encoded data removed]",
      "text/plain": [
       "<Figure size 432x288 with 1 Axes>"
      ]
     },
     "metadata": {
      "needs_background": "light"
     },
     "output_type": "display_data"
    }
   ],
   "source": [
    "#Ploto o resultado em formato gráfico\n",
    "datareview.plot(kind=\"barh\", stacked=True)"
   ]
  },
  {
   "cell_type": "markdown",
   "metadata": {},
   "source": [
    "# Analisando o valor das parcelas por modalidade"
   ]
  },
  {
   "cell_type": "code",
   "execution_count": 53,
   "metadata": {},
   "outputs": [
    {
     "name": "stdout",
     "output_type": "stream",
     "text": [
      "0     C01\n",
      "1     B99\n",
      "2     B01\n",
      "3     B03\n",
      "4     F01\n",
      "5     B07\n",
      "6     A04\n",
      "7     B05\n",
      "8     A05\n",
      "9     E01\n",
      "10    G01\n",
      "11    A01\n",
      "12    A99\n",
      "13    B06\n",
      "14    D01\n",
      "Name: COD_MDL, dtype: object 0     E02\n",
      "1     B99\n",
      "2     D01\n",
      "3     G01\n",
      "4     A02\n",
      "5     A04\n",
      "6     E01\n",
      "7     B03\n",
      "8     B02\n",
      "9     A05\n",
      "10    B04\n",
      "11    B07\n",
      "12    F01\n",
      "13    B06\n",
      "14    C01\n",
      "15    A01\n",
      "16    B05\n",
      "17    A99\n",
      "18    B01\n",
      "Name: COD_MDL, dtype: object\n",
      "ADIANTAMENTO DEPOSITANTE\n",
      "OUTROS FINANCIAMENTOS\n",
      "CARTAO DE CREDITO\n",
      "TITULOS DESCONTADOS\n",
      "EMPRESTIMO - CAPITAL DE GIRO\n",
      "EMPRESTIMO - CREDITO PESSOAL\n",
      "CHEQUE ESPECIAL E CONTA GARANTIDA\n",
      "FINANCIAMENTO - IMOBILIARIOS SFH\n",
      "FINANCIAMENTO - IMPORTACAO  E EXPORTACAO\n",
      "EMPRESTIMO - MICROCREDITO\n",
      "FINANCIAMENTO - MICROCREDITO\n",
      "FINANCIAMENTO - ARREENDAMENTO\n",
      "AVAIS E FIANCASA HONRADOS\n",
      "FINANCIAMENTO - IMOBILIARIO (OUTROS)\n",
      "CONSORCIO\n",
      "EMPRESTIMO - CONSIGNADO\n",
      "FINANCIAMENTO - AQUISICAO DE BENS (VEICULOS)\n",
      "OUTROS EMPRESTIMOS\n",
      "FINANCIAMENTO - RURAL E AGROINDUSTRIAL\n",
      "0 14 CONSORCIO\n",
      "1 1 OUTROS FINANCIAMENTOS\n",
      "2 18 FINANCIAMENTO - RURAL E AGROINDUSTRIAL\n",
      "3 7 FINANCIAMENTO - IMOBILIARIOS SFH\n",
      "4 12 AVAIS E FIANCASA HONRADOS\n",
      "5 11 FINANCIAMENTO - ARREENDAMENTO\n",
      "6 5 EMPRESTIMO - CREDITO PESSOAL\n",
      "7 16 FINANCIAMENTO - AQUISICAO DE BENS (VEICULOS)\n",
      "8 9 EMPRESTIMO - MICROCREDITO\n",
      "9 6 CHEQUE ESPECIAL E CONTA GARANTIDA\n",
      "10 3 TITULOS DESCONTADOS\n",
      "11 15 EMPRESTIMO - CONSIGNADO\n",
      "12 17 OUTROS EMPRESTIMOS\n",
      "13 13 FINANCIAMENTO - IMOBILIARIO (OUTROS)\n",
      "14 2 CARTAO DE CREDITO\n"
     ]
    },
    {
     "name": "stderr",
     "output_type": "stream",
     "text": [
      "c:\\users\\chatillon\\appdata\\local\\programs\\python\\python37\\lib\\site-packages\\ipykernel_launcher.py:18: SettingWithCopyWarning: \n",
      "A value is trying to be set on a copy of a slice from a DataFrame\n",
      "\n",
      "See the caveats in the documentation: https://pandas.pydata.org/pandas-docs/stable/user_guide/indexing.html#returning-a-view-versus-a-copy\n"
     ]
    },
    {
     "data": {
      "text/plain": [
       "0                                        CONSORCIO\n",
       "1                            OUTROS FINANCIAMENTOS\n",
       "2           FINANCIAMENTO - RURAL E AGROINDUSTRIAL\n",
       "3                 FINANCIAMENTO - IMOBILIARIOS SFH\n",
       "4                        AVAIS E FIANCASA HONRADOS\n",
       "5                    FINANCIAMENTO - ARREENDAMENTO\n",
       "6                     EMPRESTIMO - CREDITO PESSOAL\n",
       "7     FINANCIAMENTO - AQUISICAO DE BENS (VEICULOS)\n",
       "8                        EMPRESTIMO - MICROCREDITO\n",
       "9                CHEQUE ESPECIAL E CONTA GARANTIDA\n",
       "10                             TITULOS DESCONTADOS\n",
       "11                         EMPRESTIMO - CONSIGNADO\n",
       "12                              OUTROS EMPRESTIMOS\n",
       "13            FINANCIAMENTO - IMOBILIARIO (OUTROS)\n",
       "14                               CARTAO DE CREDITO\n",
       "Name: COD_MDL, dtype: object"
      ]
     },
     "execution_count": 53,
     "metadata": {},
     "output_type": "execute_result"
    }
   ],
   "source": [
    "#Troco os códigos das modalidades por seus nomes correspondentes\n",
    "\n",
    "#Imprimo a lista de cada uma das tabelas para visualização dos ids correspondentes\n",
    "print (df.COD_MDL, cf.COD_MDL)\n",
    "\n",
    "#Armazeno os nomes em uma lista vazia\n",
    "g = []\n",
    "for i in cf.DES_MDL:\n",
    "    print (i)\n",
    "    g.append (i)\n",
    "\n",
    "#Troco os código da tabela MVT pelos nomes correspondentes armazenados na lista anterior\n",
    "for c in range (len(df.COD_MDL)):\n",
    "    for i in range (len(cf.COD_MDL)):\n",
    "        if cf.COD_MDL[i] == df.COD_MDL[c]:\n",
    "            d = g[i]\n",
    "            print (c, i, d)\n",
    "            df.COD_MDL[c] = df.COD_MDL[c].replace(df.COD_MDL[c], g[i])\n",
    "\n",
    "#Verifico o resultado\n",
    "df.COD_MDL"
   ]
  },
  {
   "cell_type": "code",
   "execution_count": 54,
   "metadata": {},
   "outputs": [
    {
     "data": {
      "text/html": [
       "<div>\n",
       "<style scoped>\n",
       "    .dataframe tbody tr th:only-of-type {\n",
       "        vertical-align: middle;\n",
       "    }\n",
       "\n",
       "    .dataframe tbody tr th {\n",
       "        vertical-align: top;\n",
       "    }\n",
       "\n",
       "    .dataframe thead th {\n",
       "        text-align: right;\n",
       "    }\n",
       "</style>\n",
       "<table border=\"1\" class=\"dataframe\">\n",
       "  <thead>\n",
       "    <tr style=\"text-align: right;\">\n",
       "      <th></th>\n",
       "      <th>VLR_PCL_FAT</th>\n",
       "    </tr>\n",
       "    <tr>\n",
       "      <th>COD_MDL</th>\n",
       "      <th></th>\n",
       "    </tr>\n",
       "  </thead>\n",
       "  <tbody>\n",
       "    <tr>\n",
       "      <th>AVAIS E FIANCASA HONRADOS</th>\n",
       "      <td>2.152609e+04</td>\n",
       "    </tr>\n",
       "    <tr>\n",
       "      <th>CONSORCIO</th>\n",
       "      <td>4.595517e+08</td>\n",
       "    </tr>\n",
       "    <tr>\n",
       "      <th>EMPRESTIMO - CONSIGNADO</th>\n",
       "      <td>3.556795e+09</td>\n",
       "    </tr>\n",
       "    <tr>\n",
       "      <th>EMPRESTIMO - CREDITO PESSOAL</th>\n",
       "      <td>2.638331e+09</td>\n",
       "    </tr>\n",
       "    <tr>\n",
       "      <th>EMPRESTIMO - MICROCREDITO</th>\n",
       "      <td>9.738713e+06</td>\n",
       "    </tr>\n",
       "    <tr>\n",
       "      <th>FINANCIAMENTO - AQUISICAO DE BENS (VEICULOS)</th>\n",
       "      <td>1.838029e+09</td>\n",
       "    </tr>\n",
       "    <tr>\n",
       "      <th>FINANCIAMENTO - ARREENDAMENTO</th>\n",
       "      <td>4.607337e+06</td>\n",
       "    </tr>\n",
       "    <tr>\n",
       "      <th>FINANCIAMENTO - IMOBILIARIO (OUTROS)</th>\n",
       "      <td>1.733950e+06</td>\n",
       "    </tr>\n",
       "    <tr>\n",
       "      <th>FINANCIAMENTO - IMOBILIARIOS SFH</th>\n",
       "      <td>6.111251e+08</td>\n",
       "    </tr>\n",
       "    <tr>\n",
       "      <th>FINANCIAMENTO - RURAL E AGROINDUSTRIAL</th>\n",
       "      <td>2.868181e+07</td>\n",
       "    </tr>\n",
       "    <tr>\n",
       "      <th>OUTROS EMPRESTIMOS</th>\n",
       "      <td>1.834447e+07</td>\n",
       "    </tr>\n",
       "    <tr>\n",
       "      <th>OUTROS FINANCIAMENTOS</th>\n",
       "      <td>7.387237e+08</td>\n",
       "    </tr>\n",
       "    <tr>\n",
       "      <th>TITULOS DESCONTADOS</th>\n",
       "      <td>9.496722e+07</td>\n",
       "    </tr>\n",
       "  </tbody>\n",
       "</table>\n",
       "</div>"
      ],
      "text/plain": [
       "                                               VLR_PCL_FAT\n",
       "COD_MDL                                                   \n",
       "AVAIS E FIANCASA HONRADOS                     2.152609e+04\n",
       "CONSORCIO                                     4.595517e+08\n",
       "EMPRESTIMO - CONSIGNADO                       3.556795e+09\n",
       "EMPRESTIMO - CREDITO PESSOAL                  2.638331e+09\n",
       "EMPRESTIMO - MICROCREDITO                     9.738713e+06\n",
       "FINANCIAMENTO - AQUISICAO DE BENS (VEICULOS)  1.838029e+09\n",
       "FINANCIAMENTO - ARREENDAMENTO                 4.607337e+06\n",
       "FINANCIAMENTO - IMOBILIARIO (OUTROS)          1.733950e+06\n",
       "FINANCIAMENTO - IMOBILIARIOS SFH              6.111251e+08\n",
       "FINANCIAMENTO - RURAL E AGROINDUSTRIAL        2.868181e+07\n",
       "OUTROS EMPRESTIMOS                            1.834447e+07\n",
       "OUTROS FINANCIAMENTOS                         7.387237e+08\n",
       "TITULOS DESCONTADOS                           9.496722e+07"
      ]
     },
     "execution_count": 54,
     "metadata": {},
     "output_type": "execute_result"
    }
   ],
   "source": [
    "#Crio uma nova tabela para analisar apenas os valores das parcelas\n",
    "parcela = df[['COD_MDL', 'VLR_PCL_FAT']].groupby(['COD_MDL']).max().dropna()\n",
    "parcela"
   ]
  },
  {
   "cell_type": "code",
   "execution_count": 55,
   "metadata": {},
   "outputs": [
    {
     "data": {
      "text/plain": [
       "Text(0.5, 1.0, 'Valor das parcelas por modalidade')"
      ]
     },
     "execution_count": 55,
     "metadata": {},
     "output_type": "execute_result"
    },
    {
     "data": {
      "image/png": "[encoded data removed]",
      "text/plain": [
       "<Figure size 1080x576 with 1 Axes>"
      ]
     },
     "metadata": {
      "needs_background": "light"
     },
     "output_type": "display_data"
    }
   ],
   "source": [
    "#Ploto o resultado em formato gráfico\n",
    "parcela = parcela.VLR_PCL_FAT.sort_values()\n",
    "parcela.plot(kind='barh', figsize = (15,8));\n",
    "plt.title('Valor das parcelas por modalidade', fontsize=16)"
   ]
  },
  {
   "cell_type": "code",
   "execution_count": 56,
   "metadata": {
    "scrolled": false
   },
   "outputs": [
    {
     "data": {
      "image/png": "[encoded data removed]",
      "text/plain": [
       "<Figure size 1080x576 with 1 Axes>"
      ]
     },
     "metadata": {
      "needs_background": "light"
     },
     "output_type": "display_data"
    }
   ],
   "source": [
    "#Outra forma de plotar graficamente\n",
    "parcela = df.plot(kind='bar',x='COD_MDL', y='VLR_PCL_FAT', figsize = (15,8));"
   ]
  },
  {
   "cell_type": "markdown",
   "metadata": {},
   "source": [
    "# Analisando o número de clientes por Modalidade"
   ]
  },
  {
   "cell_type": "code",
   "execution_count": 57,
   "metadata": {},
   "outputs": [
    {
     "data": {
      "text/html": [
       "<div>\n",
       "<style scoped>\n",
       "    .dataframe tbody tr th:only-of-type {\n",
       "        vertical-align: middle;\n",
       "    }\n",
       "\n",
       "    .dataframe tbody tr th {\n",
       "        vertical-align: top;\n",
       "    }\n",
       "\n",
       "    .dataframe thead th {\n",
       "        text-align: right;\n",
       "    }\n",
       "</style>\n",
       "<table border=\"1\" class=\"dataframe\">\n",
       "  <thead>\n",
       "    <tr style=\"text-align: right;\">\n",
       "      <th></th>\n",
       "      <th>QTD_CLI_CAD_POS</th>\n",
       "    </tr>\n",
       "    <tr>\n",
       "      <th>COD_MDL</th>\n",
       "      <th></th>\n",
       "    </tr>\n",
       "  </thead>\n",
       "  <tbody>\n",
       "    <tr>\n",
       "      <th>AVAIS E FIANCASA HONRADOS</th>\n",
       "      <td>2</td>\n",
       "    </tr>\n",
       "    <tr>\n",
       "      <th>CARTAO DE CREDITO</th>\n",
       "      <td>1840240</td>\n",
       "    </tr>\n",
       "    <tr>\n",
       "      <th>CHEQUE ESPECIAL E CONTA GARANTIDA</th>\n",
       "      <td>194378</td>\n",
       "    </tr>\n",
       "    <tr>\n",
       "      <th>CONSORCIO</th>\n",
       "      <td>37186</td>\n",
       "    </tr>\n",
       "    <tr>\n",
       "      <th>EMPRESTIMO - CONSIGNADO</th>\n",
       "      <td>494442</td>\n",
       "    </tr>\n",
       "    <tr>\n",
       "      <th>EMPRESTIMO - CREDITO PESSOAL</th>\n",
       "      <td>721836</td>\n",
       "    </tr>\n",
       "    <tr>\n",
       "      <th>EMPRESTIMO - MICROCREDITO</th>\n",
       "      <td>5061</td>\n",
       "    </tr>\n",
       "    <tr>\n",
       "      <th>FINANCIAMENTO - AQUISICAO DE BENS (VEICULOS)</th>\n",
       "      <td>135773</td>\n",
       "    </tr>\n",
       "    <tr>\n",
       "      <th>FINANCIAMENTO - ARREENDAMENTO</th>\n",
       "      <td>33</td>\n",
       "    </tr>\n",
       "    <tr>\n",
       "      <th>FINANCIAMENTO - IMOBILIARIO (OUTROS)</th>\n",
       "      <td>43</td>\n",
       "    </tr>\n",
       "    <tr>\n",
       "      <th>FINANCIAMENTO - IMOBILIARIOS SFH</th>\n",
       "      <td>18820</td>\n",
       "    </tr>\n",
       "    <tr>\n",
       "      <th>FINANCIAMENTO - RURAL E AGROINDUSTRIAL</th>\n",
       "      <td>601</td>\n",
       "    </tr>\n",
       "    <tr>\n",
       "      <th>OUTROS EMPRESTIMOS</th>\n",
       "      <td>46495</td>\n",
       "    </tr>\n",
       "    <tr>\n",
       "      <th>OUTROS FINANCIAMENTOS</th>\n",
       "      <td>307070</td>\n",
       "    </tr>\n",
       "    <tr>\n",
       "      <th>TITULOS DESCONTADOS</th>\n",
       "      <td>1890</td>\n",
       "    </tr>\n",
       "  </tbody>\n",
       "</table>\n",
       "</div>"
      ],
      "text/plain": [
       "                                              QTD_CLI_CAD_POS\n",
       "COD_MDL                                                      \n",
       "AVAIS E FIANCASA HONRADOS                                   2\n",
       "CARTAO DE CREDITO                                     1840240\n",
       "CHEQUE ESPECIAL E CONTA GARANTIDA                      194378\n",
       "CONSORCIO                                               37186\n",
       "EMPRESTIMO - CONSIGNADO                                494442\n",
       "EMPRESTIMO - CREDITO PESSOAL                           721836\n",
       "EMPRESTIMO - MICROCREDITO                                5061\n",
       "FINANCIAMENTO - AQUISICAO DE BENS (VEICULOS)           135773\n",
       "FINANCIAMENTO - ARREENDAMENTO                              33\n",
       "FINANCIAMENTO - IMOBILIARIO (OUTROS)                       43\n",
       "FINANCIAMENTO - IMOBILIARIOS SFH                        18820\n",
       "FINANCIAMENTO - RURAL E AGROINDUSTRIAL                    601\n",
       "OUTROS EMPRESTIMOS                                      46495\n",
       "OUTROS FINANCIAMENTOS                                  307070\n",
       "TITULOS DESCONTADOS                                      1890"
      ]
     },
     "execution_count": 57,
     "metadata": {},
     "output_type": "execute_result"
    }
   ],
   "source": [
    "#Crio uma nova tabela para analisar apenas os número de clientes\n",
    "cliente = df[['COD_MDL', 'QTD_CLI_CAD_POS']].groupby(['COD_MDL']).max().dropna()\n",
    "cliente"
   ]
  },
  {
   "cell_type": "code",
   "execution_count": 58,
   "metadata": {},
   "outputs": [
    {
     "data": {
      "image/png": "[encoded data removed]",
      "text/plain": [
       "<Figure size 1080x576 with 1 Axes>"
      ]
     },
     "metadata": {
      "needs_background": "light"
     },
     "output_type": "display_data"
    }
   ],
   "source": [
    "#Ploto o resultado em formato gráfico\n",
    "cliente = cliente.QTD_CLI_CAD_POS.sort_values()\n",
    "cliente.plot(kind='barh', figsize = (15,8));"
   ]
  },
  {
   "cell_type": "markdown",
   "metadata": {},
   "source": [
    "# Analisando o número de movimentações por modalidade"
   ]
  },
  {
   "cell_type": "code",
   "execution_count": 59,
   "metadata": {},
   "outputs": [
    {
     "data": {
      "text/html": [
       "<div>\n",
       "<style scoped>\n",
       "    .dataframe tbody tr th:only-of-type {\n",
       "        vertical-align: middle;\n",
       "    }\n",
       "\n",
       "    .dataframe tbody tr th {\n",
       "        vertical-align: top;\n",
       "    }\n",
       "\n",
       "    .dataframe thead th {\n",
       "        text-align: right;\n",
       "    }\n",
       "</style>\n",
       "<table border=\"1\" class=\"dataframe\">\n",
       "  <thead>\n",
       "    <tr style=\"text-align: right;\">\n",
       "      <th></th>\n",
       "      <th>QTD_MVT</th>\n",
       "    </tr>\n",
       "    <tr>\n",
       "      <th>COD_MDL</th>\n",
       "      <th></th>\n",
       "    </tr>\n",
       "  </thead>\n",
       "  <tbody>\n",
       "    <tr>\n",
       "      <th>AVAIS E FIANCASA HONRADOS</th>\n",
       "      <td>4</td>\n",
       "    </tr>\n",
       "    <tr>\n",
       "      <th>CARTAO DE CREDITO</th>\n",
       "      <td>21748501</td>\n",
       "    </tr>\n",
       "    <tr>\n",
       "      <th>CHEQUE ESPECIAL E CONTA GARANTIDA</th>\n",
       "      <td>194921</td>\n",
       "    </tr>\n",
       "    <tr>\n",
       "      <th>CONSORCIO</th>\n",
       "      <td>677272</td>\n",
       "    </tr>\n",
       "    <tr>\n",
       "      <th>EMPRESTIMO - CONSIGNADO</th>\n",
       "      <td>19241809</td>\n",
       "    </tr>\n",
       "    <tr>\n",
       "      <th>EMPRESTIMO - CREDITO PESSOAL</th>\n",
       "      <td>10020532</td>\n",
       "    </tr>\n",
       "    <tr>\n",
       "      <th>EMPRESTIMO - MICROCREDITO</th>\n",
       "      <td>38003</td>\n",
       "    </tr>\n",
       "    <tr>\n",
       "      <th>FINANCIAMENTO - AQUISICAO DE BENS (VEICULOS)</th>\n",
       "      <td>1797516</td>\n",
       "    </tr>\n",
       "    <tr>\n",
       "      <th>FINANCIAMENTO - ARREENDAMENTO</th>\n",
       "      <td>329</td>\n",
       "    </tr>\n",
       "    <tr>\n",
       "      <th>FINANCIAMENTO - IMOBILIARIO (OUTROS)</th>\n",
       "      <td>330</td>\n",
       "    </tr>\n",
       "    <tr>\n",
       "      <th>FINANCIAMENTO - IMOBILIARIOS SFH</th>\n",
       "      <td>244041</td>\n",
       "    </tr>\n",
       "    <tr>\n",
       "      <th>FINANCIAMENTO - RURAL E AGROINDUSTRIAL</th>\n",
       "      <td>1964</td>\n",
       "    </tr>\n",
       "    <tr>\n",
       "      <th>OUTROS EMPRESTIMOS</th>\n",
       "      <td>230867</td>\n",
       "    </tr>\n",
       "    <tr>\n",
       "      <th>OUTROS FINANCIAMENTOS</th>\n",
       "      <td>2741111</td>\n",
       "    </tr>\n",
       "    <tr>\n",
       "      <th>TITULOS DESCONTADOS</th>\n",
       "      <td>123559</td>\n",
       "    </tr>\n",
       "  </tbody>\n",
       "</table>\n",
       "</div>"
      ],
      "text/plain": [
       "                                               QTD_MVT\n",
       "COD_MDL                                               \n",
       "AVAIS E FIANCASA HONRADOS                            4\n",
       "CARTAO DE CREDITO                             21748501\n",
       "CHEQUE ESPECIAL E CONTA GARANTIDA               194921\n",
       "CONSORCIO                                       677272\n",
       "EMPRESTIMO - CONSIGNADO                       19241809\n",
       "EMPRESTIMO - CREDITO PESSOAL                  10020532\n",
       "EMPRESTIMO - MICROCREDITO                        38003\n",
       "FINANCIAMENTO - AQUISICAO DE BENS (VEICULOS)   1797516\n",
       "FINANCIAMENTO - ARREENDAMENTO                      329\n",
       "FINANCIAMENTO - IMOBILIARIO (OUTROS)               330\n",
       "FINANCIAMENTO - IMOBILIARIOS SFH                244041\n",
       "FINANCIAMENTO - RURAL E AGROINDUSTRIAL            1964\n",
       "OUTROS EMPRESTIMOS                              230867\n",
       "OUTROS FINANCIAMENTOS                          2741111\n",
       "TITULOS DESCONTADOS                             123559"
      ]
     },
     "execution_count": 59,
     "metadata": {},
     "output_type": "execute_result"
    }
   ],
   "source": [
    "#Crio uma nova tabela para analisar apenas os número de movimentações\n",
    "movimentacao = df[['COD_MDL', 'QTD_MVT']].groupby(['COD_MDL']).max().dropna()\n",
    "movimentacao"
   ]
  },
  {
   "cell_type": "code",
   "execution_count": 60,
   "metadata": {},
   "outputs": [
    {
     "data": {
      "image/png": "[encoded data removed]",
      "text/plain": [
       "<Figure size 1080x576 with 1 Axes>"
      ]
     },
     "metadata": {
      "needs_background": "light"
     },
     "output_type": "display_data"
    }
   ],
   "source": [
    "#Ploto o resultado em formato gráfico\n",
    "movimentacao = movimentacao.QTD_MVT.sort_values()\n",
    "movimentacao.plot(kind='barh', figsize = (15,8));"
   ]
  },
  {
   "cell_type": "markdown",
   "metadata": {},
   "source": [
    "# Analisando as faturas do cartão de crédito"
   ]
  },
  {
   "cell_type": "code",
   "execution_count": 61,
   "metadata": {},
   "outputs": [
    {
     "data": {
      "text/html": [
       "<div>\n",
       "<style scoped>\n",
       "    .dataframe tbody tr th:only-of-type {\n",
       "        vertical-align: middle;\n",
       "    }\n",
       "\n",
       "    .dataframe tbody tr th {\n",
       "        vertical-align: top;\n",
       "    }\n",
       "\n",
       "    .dataframe thead th {\n",
       "        text-align: right;\n",
       "    }\n",
       "</style>\n",
       "<table border=\"1\" class=\"dataframe\">\n",
       "  <thead>\n",
       "    <tr style=\"text-align: right;\">\n",
       "      <th></th>\n",
       "      <th>VLR_TOT_FAT</th>\n",
       "      <th>VLR_MIM_FAT</th>\n",
       "    </tr>\n",
       "    <tr>\n",
       "      <th>COD_MDL</th>\n",
       "      <th></th>\n",
       "      <th></th>\n",
       "    </tr>\n",
       "  </thead>\n",
       "  <tbody>\n",
       "    <tr>\n",
       "      <th>CARTAO DE CREDITO</th>\n",
       "      <td>1.932767e+10</td>\n",
       "      <td>6.071738e+09</td>\n",
       "    </tr>\n",
       "  </tbody>\n",
       "</table>\n",
       "</div>"
      ],
      "text/plain": [
       "                    VLR_TOT_FAT   VLR_MIM_FAT\n",
       "COD_MDL                                      \n",
       "CARTAO DE CREDITO  1.932767e+10  6.071738e+09"
      ]
     },
     "execution_count": 61,
     "metadata": {},
     "output_type": "execute_result"
    }
   ],
   "source": [
    "#Crio uma nova tabela para analisar apenas as faturas do cartão de crédito\n",
    "credito = df.query('COD_MDL == \"CARTAO DE CREDITO\"')\n",
    "credito = credito[['COD_MDL', 'VLR_TOT_FAT', 'VLR_MIM_FAT']].groupby(['COD_MDL']).max().dropna()\n",
    "credito"
   ]
  },
  {
   "cell_type": "code",
   "execution_count": 62,
   "metadata": {},
   "outputs": [
    {
     "data": {
      "text/plain": [
       "<matplotlib.axes._subplots.AxesSubplot at 0x1f3796305c8>"
      ]
     },
     "execution_count": 62,
     "metadata": {},
     "output_type": "execute_result"
    },
    {
     "data": {
      "image/png": "[encoded data removed]",
      "text/plain": [
       "<Figure size 432x288 with 1 Axes>"
      ]
     },
     "metadata": {
      "needs_background": "light"
     },
     "output_type": "display_data"
    }
   ],
   "source": [
    "#Ploto o resultado em formato gráfico\n",
    "credito = df.query('COD_MDL == \"CARTAO DE CREDITO\"')\n",
    "credito[[\"COD_MDL\", \"VLR_TOT_FAT\", \"VLR_MIM_FAT\"]].plot(x=\"COD_MDL\", kind=\"barh\")"
   ]
  },
  {
   "cell_type": "markdown",
   "metadata": {},
   "source": [
    "# Analisando o saldo devedor do cheque especial"
   ]
  },
  {
   "cell_type": "code",
   "execution_count": 63,
   "metadata": {},
   "outputs": [
    {
     "data": {
      "text/html": [
       "<div>\n",
       "<style scoped>\n",
       "    .dataframe tbody tr th:only-of-type {\n",
       "        vertical-align: middle;\n",
       "    }\n",
       "\n",
       "    .dataframe tbody tr th {\n",
       "        vertical-align: top;\n",
       "    }\n",
       "\n",
       "    .dataframe thead th {\n",
       "        text-align: right;\n",
       "    }\n",
       "</style>\n",
       "<table border=\"1\" class=\"dataframe\">\n",
       "  <thead>\n",
       "    <tr style=\"text-align: right;\">\n",
       "      <th></th>\n",
       "      <th>VLR_SDO_UTZ_CRD_RTO</th>\n",
       "    </tr>\n",
       "    <tr>\n",
       "      <th>COD_MDL</th>\n",
       "      <th></th>\n",
       "    </tr>\n",
       "  </thead>\n",
       "  <tbody>\n",
       "    <tr>\n",
       "      <th>CHEQUE ESPECIAL E CONTA GARANTIDA</th>\n",
       "      <td>2.181758e+08</td>\n",
       "    </tr>\n",
       "  </tbody>\n",
       "</table>\n",
       "</div>"
      ],
      "text/plain": [
       "                                   VLR_SDO_UTZ_CRD_RTO\n",
       "COD_MDL                                               \n",
       "CHEQUE ESPECIAL E CONTA GARANTIDA         2.181758e+08"
      ]
     },
     "execution_count": 63,
     "metadata": {},
     "output_type": "execute_result"
    }
   ],
   "source": [
    "#Crio uma nova tabela para analisar apenas o saldo devedor do cheque especial\n",
    "cheque = df.query('COD_MDL == \"CHEQUE ESPECIAL E CONTA GARANTIDA\"')\n",
    "cheque = cheque[['COD_MDL', 'VLR_SDO_UTZ_CRD_RTO']].groupby(['COD_MDL']).max().dropna()\n",
    "cheque"
   ]
  },
  {
   "cell_type": "code",
   "execution_count": 64,
   "metadata": {},
   "outputs": [
    {
     "data": {
      "text/plain": [
       "<matplotlib.axes._subplots.AxesSubplot at 0x1f379944f88>"
      ]
     },
     "execution_count": 64,
     "metadata": {},
     "output_type": "execute_result"
    },
    {
     "data": {
      "image/png": "[encoded data removed]",
      "text/plain": [
       "<Figure size 432x288 with 1 Axes>"
      ]
     },
     "metadata": {
      "needs_background": "light"
     },
     "output_type": "display_data"
    }
   ],
   "source": [
    "#Ploto o resultado em formato gráfico\n",
    "cheque = df.query('COD_MDL == \"CHEQUE ESPECIAL E CONTA GARANTIDA\"')\n",
    "cheque[[\"COD_MDL\", \"VLR_SDO_UTZ_CRD_RTO\"]].plot(x=\"COD_MDL\", kind=\"barh\")"
   ]
  },
  {
   "cell_type": "markdown",
   "metadata": {},
   "source": [
    "# Opcional: Exportando a tabela corrigida para XLSX"
   ]
  },
  {
   "cell_type": "code",
   "execution_count": 41,
   "metadata": {},
   "outputs": [],
   "source": [
    "#df = df    \n",
    "#df.to_excel('novo_STG_MVT.xlsx')"
   ]
  }
 ],
 "metadata": {
  "kernelspec": {
   "display_name": "Python 3",
   "language": "python",
   "name": "python3"
  },
  "language_info": {
   "codemirror_mode": {
    "name": "ipython",
    "version": 3
   },
   "file_extension": ".py",
   "mimetype": "text/x-python",
   "name": "python",
   "nbconvert_exporter": "python",
   "pygments_lexer": "ipython3",
   "version": "3.7.4"
  }
 },
 "nbformat": 4,
 "nbformat_minor": 4
}

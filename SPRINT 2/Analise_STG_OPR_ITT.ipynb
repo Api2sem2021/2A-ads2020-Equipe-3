{
 "cells": [
  {
   "cell_type": "code",
   "execution_count": 1,
   "metadata": {},
   "outputs": [],
   "source": [
    "import pandas as pd"
   ]
  },
  {
   "cell_type": "code",
   "execution_count": 33,
   "metadata": {},
   "outputs": [],
   "source": [
    "tabela = 'STG_OPR_ITT.xlsx'\n",
    "\n",
    "dados_principais = pd.read_excel(tabela)"
   ]
  },
  {
   "cell_type": "code",
   "execution_count": 27,
   "metadata": {},
   "outputs": [],
   "source": [
    "def linha():\n",
    "    print('\\033[34m', end = '')\n",
    "    print('-' * 60, '\\033[m')"
   ]
  },
  {
   "cell_type": "code",
   "execution_count": 35,
   "metadata": {},
   "outputs": [],
   "source": [
    "nome_colunas = dados_principais.columns"
   ]
  },
  {
   "cell_type": "code",
   "execution_count": 72,
   "metadata": {},
   "outputs": [
    {
     "name": "stdout",
     "output_type": "stream",
     "text": [
      "\u001b[34m------------------------------------------------------------ \u001b[m\n",
      "A tabela STG_OPR_ITT.xlsx tem 891 linhas e 11 colunas.\n",
      "\u001b[34m------------------------------------------------------------ \u001b[m\n",
      "Contendo as colunas: \n",
      "0 - ID_STG_OPR_ITT\n",
      "1 - VLR_CTRD_CSC\n",
      "2 - QTD_PCL\n",
      "3 - VLR_SDO_DDR\n",
      "4 - QTD_CLI_CAD_POS\n",
      "5 - QTD_OPR\n",
      "6 - ID_FNT_ITT\n",
      "7 - ID_MDL\n",
      "8 - DES_TIP_PSS\n",
      "9 - DAT_RSS_FNT_ITT\n",
      "10 - DAT_INC_DBO\n",
      "\u001b[34m------------------------------------------------------------ \u001b[m\n"
     ]
    }
   ],
   "source": [
    "linhas = dados_principais.shape[0]\n",
    "colunas = dados_principais.shape[1]\n",
    "\n",
    "linha()\n",
    "\n",
    "print(f'A tabela {tabela} tem {linhas} linhas e {colunas} colunas.')\n",
    "\n",
    "linha()\n",
    "\n",
    "print('Contendo as colunas: ')\n",
    "for count, coluna in enumerate(nome_colunas): \n",
    "    print(f'{count} - {coluna}')\n",
    "    \n",
    "linha()"
   ]
  },
  {
   "cell_type": "code",
   "execution_count": 123,
   "metadata": {},
   "outputs": [
    {
     "data": {
      "text/plain": [
       "9      A01\n",
       "0      A04\n",
       "32     A05\n",
       "12     A99\n",
       "17     B01\n",
       "3      B03\n",
       "2      B05\n",
       "273    B06\n",
       "218    B07\n",
       "1      B99\n",
       "6      C01\n",
       "261    F01\n",
       "860    G01\n",
       "Name: ID_MDL, dtype: object"
      ]
     },
     "execution_count": 123,
     "metadata": {},
     "output_type": "execute_result"
    }
   ],
   "source": [
    "dados_principais['ID_MDL'].drop_duplicates().sort_values()"
   ]
  },
  {
   "cell_type": "code",
   "execution_count": 129,
   "metadata": {},
   "outputs": [
    {
     "data": {
      "text/plain": [
       "878"
      ]
     },
     "execution_count": 129,
     "metadata": {},
     "output_type": "execute_result"
    }
   ],
   "source": [
    "dados_principais['ID_MDL'].duplicated().sum()"
   ]
  },
  {
   "cell_type": "code",
   "execution_count": 126,
   "metadata": {},
   "outputs": [
    {
     "data": {
      "text/plain": [
       "G01      1\n",
       "F01      1\n",
       "B07      2\n",
       "B06      4\n",
       "B01     19\n",
       "A05     20\n",
       "A99     35\n",
       "B05     71\n",
       "B99    104\n",
       "A04    112\n",
       "A01    122\n",
       "C01    186\n",
       "B03    214\n",
       "Name: ID_MDL, dtype: int64"
      ]
     },
     "execution_count": 126,
     "metadata": {},
     "output_type": "execute_result"
    }
   ],
   "source": [
    "dados_principais['ID_MDL'].value_counts(ascending = True)\n"
   ]
  },
  {
   "cell_type": "code",
   "execution_count": 135,
   "metadata": {},
   "outputs": [
    {
     "data": {
      "text/plain": [
       "0    2020-01-27 10:49:48.15\n",
       "Name: DAT_INC_DBO, dtype: object"
      ]
     },
     "execution_count": 135,
     "metadata": {},
     "output_type": "execute_result"
    }
   ],
   "source": [
    "dados_principais[coluna].drop_duplicates()"
   ]
  },
  {
   "cell_type": "code",
   "execution_count": 137,
   "metadata": {},
   "outputs": [
    {
     "name": "stdout",
     "output_type": "stream",
     "text": [
      "\u001b[34m------------------------------------------------------------ \u001b[m\n",
      "\u001b[31m        ID_STG_OPR_ITT        \u001b[m\n",
      "     Valores únicos: 891\n",
      " Valores duplicados: 0\n",
      "      Valores nulos: 0\n",
      "\n",
      "\n",
      "\u001b[31m         VLR_CTRD_CSC         \u001b[m\n",
      "     Valores únicos: 187\n",
      " Valores duplicados: 0\n",
      "      Valores nulos: 705\n",
      "\n",
      "\n",
      "\u001b[31m           QTD_PCL            \u001b[m\n",
      "     Valores únicos: 337\n",
      " Valores duplicados: 0\n",
      "      Valores nulos: 0\n",
      "\n",
      "\n",
      "\u001b[31m         VLR_SDO_DDR          \u001b[m\n",
      "     Valores únicos: 187\n",
      " Valores duplicados: 0\n",
      "      Valores nulos: 705\n",
      "\n",
      "\n",
      "\u001b[31m       QTD_CLI_CAD_POS        \u001b[m\n",
      "     Valores únicos: 312\n",
      " Valores duplicados: 0\n",
      "      Valores nulos: 0\n",
      "\n",
      "\n",
      "\u001b[31m           QTD_OPR            \u001b[m\n",
      "     Valores únicos: 317\n",
      " Valores duplicados: 0\n",
      "      Valores nulos: 0\n",
      "\n",
      "\n",
      "\u001b[31m          ID_FNT_ITT          \u001b[m\n",
      "     Valores únicos: 1\n",
      " Valores duplicados: 0\n",
      "      Valores nulos: 0\n",
      "\n",
      "\n",
      "\u001b[31m            ID_MDL            \u001b[m\n",
      "     Valores únicos: 13\n",
      " Valores duplicados: 0\n",
      "      Valores nulos: 0\n",
      "\n",
      "\n",
      "\u001b[31m         DES_TIP_PSS          \u001b[m\n",
      "     Valores únicos: 1\n",
      " Valores duplicados: 0\n",
      "      Valores nulos: 0\n",
      "\n",
      "\n",
      "\u001b[31m       DAT_RSS_FNT_ITT        \u001b[m\n",
      "     Valores únicos: 1\n",
      " Valores duplicados: 0\n",
      "      Valores nulos: 0\n",
      "\n",
      "\n",
      "\u001b[31m         DAT_INC_DBO          \u001b[m\n",
      "     Valores únicos: 1\n",
      " Valores duplicados: 0\n",
      "      Valores nulos: 0\n",
      "\n",
      "\n"
     ]
    }
   ],
   "source": [
    "linha()\n",
    "\n",
    "for coluna in nome_colunas:\n",
    "    coluna_temp = dados_principais[coluna].drop_duplicates()\n",
    "    print(f'\\033[31m{coluna:^30}\\033[m')\n",
    "    print(f'{\"Valores únicos:\":>20} {len(coluna_temp.unique())}')\n",
    "    print(f'{\"Valores duplicados:\":>20} {coluna_temp.duplicated().sum()}')\n",
    "    print(f'{\"Valores nulos:\":>20} {dados_principais[coluna].isnull().sum()}')\n",
    "    print('\\n')"
   ]
  }
 ],
 "metadata": {
  "kernelspec": {
   "display_name": "Python 3",
   "language": "python",
   "name": "python3"
  },
  "language_info": {
   "codemirror_mode": {
    "name": "ipython",
    "version": 3
   },
   "file_extension": ".py",
   "mimetype": "text/x-python",
   "name": "python",
   "nbconvert_exporter": "python",
   "pygments_lexer": "ipython3",
   "version": "3.7.5"
  }
 },
 "nbformat": 4,
 "nbformat_minor": 4
}

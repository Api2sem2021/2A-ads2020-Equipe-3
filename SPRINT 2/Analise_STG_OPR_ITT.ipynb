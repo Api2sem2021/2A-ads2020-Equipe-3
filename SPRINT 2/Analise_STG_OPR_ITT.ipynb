{
 "cells": [
  {
   "cell_type": "code",
   "execution_count": 127,
   "metadata": {},
   "outputs": [],
   "source": [
    "# Importando as bibliotecas\n",
    "\n",
    "import pandas as pd\n",
    "import matplotlib.pyplot as plt"
   ]
  },
  {
   "cell_type": "code",
   "execution_count": 128,
   "metadata": {},
   "outputs": [],
   "source": [
    "# Configurando o tamanho padrão dos gráficos\n",
    "\n",
    "plt.rcParams['figure.figsize'] = (11,7)"
   ]
  },
  {
   "cell_type": "code",
   "execution_count": 221,
   "metadata": {},
   "outputs": [],
   "source": [
    "# Carregando os dados necessarios\n",
    "\n",
    "tabelas = ['STG_OPR_ITT', 'STG_MDL']\n",
    "extensao = '.xlsx'\n",
    "\n",
    "dados_STG_OPR_ITT = pd.read_excel(f'{tabelas[0]}{extensao}')\n",
    "dados_STG_MDL = pd.read_excel(f'{tabelas[1]}{extensao}')"
   ]
  },
  {
   "cell_type": "code",
   "execution_count": 59,
   "metadata": {},
   "outputs": [
    {
     "data": {
      "text/plain": [
       "ID_STG_OPR_ITT       int64\n",
       "VLR_CTRD_CSC       float64\n",
       "QTD_PCL              int64\n",
       "VLR_SDO_DDR        float64\n",
       "QTD_CLI_CAD_POS      int64\n",
       "QTD_OPR              int64\n",
       "ID_FNT_ITT           int64\n",
       "ID_MDL              object\n",
       "DES_TIP_PSS         object\n",
       "DAT_RSS_FNT_ITT     object\n",
       "DAT_INC_DBO         object\n",
       "dtype: object"
      ]
     },
     "execution_count": 59,
     "metadata": {},
     "output_type": "execute_result"
    }
   ],
   "source": [
    "# Verificando os tipos dos dados inseridos\n",
    "\n",
    "dados_STG_OPR_ITT.dtypes"
   ]
  },
  {
   "cell_type": "code",
   "execution_count": 189,
   "metadata": {},
   "outputs": [
    {
     "data": {
      "text/plain": [
       "ID_STG_MDL      int64\n",
       "COD_MDL        object\n",
       "DES_MDL        object\n",
       "DAT_INC_DBO    object\n",
       "dtype: object"
      ]
     },
     "execution_count": 189,
     "metadata": {},
     "output_type": "execute_result"
    }
   ],
   "source": [
    "# Verificando os tipos dos dados inseridos\n",
    "\n",
    "dados_STG_MDL.dtypes"
   ]
  },
  {
   "cell_type": "code",
   "execution_count": 190,
   "metadata": {},
   "outputs": [
    {
     "name": "stdout",
     "output_type": "stream",
     "text": [
      "------------------------------------------------------------\n",
      "A tabela STG_OPR_ITT tem 891 linhas e 11 colunas.\n",
      "------------------------------------------------------------\n",
      "Contendo as colunas: \n",
      "0 - ID_STG_OPR_ITT\n",
      "1 - VLR_CTRD_CSC\n",
      "2 - QTD_PCL\n",
      "3 - VLR_SDO_DDR\n",
      "4 - QTD_CLI_CAD_POS\n",
      "5 - QTD_OPR\n",
      "6 - ID_FNT_ITT\n",
      "7 - ID_MDL\n",
      "8 - DES_TIP_PSS\n",
      "9 - DAT_RSS_FNT_ITT\n",
      "10 - DAT_INC_DBO\n",
      "------------------------------------------------------------\n"
     ]
    }
   ],
   "source": [
    "nome_colunas = dados_STG_OPR_ITT.columns\n",
    "\n",
    "linhas = dados_STG_OPR_ITT.shape[0]\n",
    "colunas = dados_STG_OPR_ITT.shape[1]\n",
    "\n",
    "print('-' * 60)\n",
    "\n",
    "print(f'A tabela {tabelas[0]} tem {linhas} linhas e {colunas} colunas.')\n",
    "\n",
    "print('-' * 60)\n",
    "\n",
    "print('Contendo as colunas: ')\n",
    "for indice, coluna in enumerate(nome_colunas): \n",
    "    print(f'{indice} - {coluna}')\n",
    "    \n",
    "print('-' * 60)"
   ]
  },
  {
   "cell_type": "code",
   "execution_count": 191,
   "metadata": {},
   "outputs": [
    {
     "name": "stdout",
     "output_type": "stream",
     "text": [
      "------------------------------------------------------------\n",
      "A tabela STG_MDL tem 19 linhas e 4 colunas.\n",
      "------------------------------------------------------------\n",
      "Contendo as colunas: \n",
      "0 - ID_STG_MDL\n",
      "1 - COD_MDL\n",
      "2 - DES_MDL\n",
      "3 - DAT_INC_DBO\n",
      "------------------------------------------------------------\n"
     ]
    }
   ],
   "source": [
    "nome_colunas = dados_STG_MDL.columns\n",
    "\n",
    "linhas = dados_STG_MDL.shape[0]\n",
    "colunas = dados_STG_MDL.shape[1]\n",
    "\n",
    "print('-' * 60)\n",
    "\n",
    "print(f'A tabela {tabelas[1]} tem {linhas} linhas e {colunas} colunas.')\n",
    "\n",
    "print('-' * 60)\n",
    "\n",
    "print('Contendo as colunas: ')\n",
    "for indice, coluna in enumerate(nome_colunas): \n",
    "    print(f'{indice} - {coluna}')\n",
    "    \n",
    "print('-' * 60)"
   ]
  },
  {
   "cell_type": "code",
   "execution_count": 103,
   "metadata": {},
   "outputs": [
    {
     "name": "stdout",
     "output_type": "stream",
     "text": [
      "------------------------------------------------------------\n",
      "R$       2423.12\n",
      "R$       8372.00\n",
      "R$      45340.94\n",
      "R$      83188.74\n",
      "R$      16872.00\n",
      "R$       3223.25\n",
      "R$      57609.53\n",
      "R$      52887.94\n",
      "R$      49531.28\n",
      "R$     670842.12\n",
      "------------------------------------------------------------\n",
      "------------------------------------------------------------\n",
      "R$       1477.46\n",
      "R$       6114.61\n",
      "R$      34556.93\n",
      "R$      38729.32\n",
      "R$       4715.18\n",
      "R$       1754.93\n",
      "R$      30315.01\n",
      "R$      24701.55\n",
      "R$      24113.91\n",
      "R$     593271.36\n",
      "------------------------------------------------------------\n"
     ]
    }
   ],
   "source": [
    "# Convertendo todos os valores para acrescentar dois decimais\n",
    "\n",
    "colunas = ['VLR_CTRD_CSC', 'VLR_SDO_DDR']\n",
    "\n",
    "for coluna in colunas:\n",
    "    count = 0\n",
    "    print('-' * 60)\n",
    "    \n",
    "    for antes in dados_STG_OPR_ITT[coluna].dropna():\n",
    "        depois = antes * 0.01\n",
    "        dados_STG_OPR_ITT[coluna] = dados_STG_OPR_ITT[coluna].replace(antes, depois)\n",
    "\n",
    "        if count < 10: # Essa parte serve somente para limitar a amostragem dos valores\n",
    "            count += 1\n",
    "            print(f'R${depois:>14.2f}')\n",
    "            \n",
    "    print('-' * 60)"
   ]
  },
  {
   "cell_type": "code",
   "execution_count": 223,
   "metadata": {},
   "outputs": [
    {
     "name": "stdout",
     "output_type": "stream",
     "text": [
      "0    A04\n",
      "1    B99\n",
      "2    B05\n",
      "3    B03\n",
      "4    B03\n",
      "5    B99\n",
      "6    C01\n",
      "7    A04\n",
      "8    B05\n",
      "9    A01\n",
      "Name: ID_MDL, dtype: object\n"
     ]
    },
    {
     "name": "stderr",
     "output_type": "stream",
     "text": [
      "/home/fatality/.local/lib/python3.7/site-packages/ipykernel_launcher.py:9: SettingWithCopyWarning: \n",
      "A value is trying to be set on a copy of a slice from a DataFrame\n",
      "\n",
      "See the caveats in the documentation: https://pandas.pydata.org/pandas-docs/stable/user_guide/indexing.html#returning-a-view-versus-a-copy\n",
      "  if __name__ == '__main__':\n"
     ]
    },
    {
     "name": "stdout",
     "output_type": "stream",
     "text": [
      "0                    EMPRESTIMO - CREDITO PESSOAL\n",
      "1                           OUTROS FINANCIAMENTOS\n",
      "2    FINANCIAMENTO - AQUISICAO DE BENS (VEICULOS)\n",
      "3                FINANCIAMENTO - IMOBILIARIOS SFH\n",
      "4                FINANCIAMENTO - IMOBILIARIOS SFH\n",
      "5                           OUTROS FINANCIAMENTOS\n",
      "6                                       CONSORCIO\n",
      "7                    EMPRESTIMO - CREDITO PESSOAL\n",
      "8    FINANCIAMENTO - AQUISICAO DE BENS (VEICULOS)\n",
      "9                         EMPRESTIMO - CONSIGNADO\n",
      "Name: ID_MDL, dtype: object\n"
     ]
    }
   ],
   "source": [
    "print(dados_STG_OPR_ITT['ID_MDL'].head(10))\n",
    "\n",
    "for index, value in enumerate(dados_STG_OPR_ITT['ID_MDL'].dropna()):\n",
    "    temp = dados_STG_OPR_ITT['ID_MDL'][index]\n",
    "    \n",
    "    for index_temp, codigo in enumerate(dados_STG_MDL['COD_MDL']):\n",
    "\n",
    "        if value == codigo:\n",
    "            dados_STG_OPR_ITT['ID_MDL'][index] = temp.replace(temp, dados_STG_MDL['DES_MDL'][index_temp])\n",
    "        \n",
    "            \n",
    "print(dados_STG_OPR_ITT['ID_MDL'].head(10))"
   ]
  },
  {
   "cell_type": "code",
   "execution_count": 235,
   "metadata": {},
   "outputs": [
    {
     "data": {
      "text/plain": [
       "FINANCIAMENTO - IMOBILIARIOS SFH                214\n",
       "CONSORCIO                                       186\n",
       "EMPRESTIMO - CONSIGNADO                         122\n",
       "EMPRESTIMO - CREDITO PESSOAL                    112\n",
       "OUTROS FINANCIAMENTOS                           104\n",
       "FINANCIAMENTO - AQUISICAO DE BENS (VEICULOS)     71\n",
       "OUTROS EMPRESTIMOS                               35\n",
       "EMPRESTIMO - MICROCREDITO                        20\n",
       "FINANCIAMENTO - RURAL E AGROINDUSTRIAL           19\n",
       "FINANCIAMENTO - IMOBILIARIO (OUTROS)              4\n",
       "FINANCIAMENTO - ARREENDAMENTO                     2\n",
       "TITULOS DESCONTADOS                               1\n",
       "AVAIS E FIANCASA HONRADOS                         1\n",
       "Name: ID_MDL, dtype: int64"
      ]
     },
     "execution_count": 235,
     "metadata": {},
     "output_type": "execute_result"
    }
   ],
   "source": [
    "# Total de operações por modalidades (mais usadas)\n",
    "\n",
    "temp = dados_STG_OPR_ITT['ID_MDL'].dropna()\n",
    "\n",
    "mdl_mais_usadas = temp.value_counts(ascending = False)\n",
    "mdl_mais_usadas\n"
   ]
  },
  {
   "cell_type": "code",
   "execution_count": 236,
   "metadata": {},
   "outputs": [
    {
     "data": {
      "image/png": "[encoded data removed]",
      "text/plain": [
       "<Figure size 792x504 with 1 Axes>"
      ]
     },
     "metadata": {
      "needs_background": "light"
     },
     "output_type": "display_data"
    }
   ],
   "source": [
    "# Criando um gráfico para ficar mais visível.\n",
    "\n",
    "mdl_mais_usadas.plot.barh();\n",
    "\n",
    "plt.title(\"Modalidades Mais Usadas\", size=25); # Adicionando um título\n",
    "plt.xlabel('Quantidade', size=15); # Nomeando o eixo X\n",
    "# plt.ylabel('Código', size=15); # Nomeando o eixo Y"
   ]
  },
  {
   "cell_type": "code",
   "execution_count": 65,
   "metadata": {},
   "outputs": [
    {
     "data": {
      "text/html": [
       "<div>\n",
       "<style scoped>\n",
       "    .dataframe tbody tr th:only-of-type {\n",
       "        vertical-align: middle;\n",
       "    }\n",
       "\n",
       "    .dataframe tbody tr th {\n",
       "        vertical-align: top;\n",
       "    }\n",
       "\n",
       "    .dataframe thead th {\n",
       "        text-align: right;\n",
       "    }\n",
       "</style>\n",
       "<table border=\"1\" class=\"dataframe\">\n",
       "  <thead>\n",
       "    <tr style=\"text-align: right;\">\n",
       "      <th></th>\n",
       "      <th>QTD_OPR</th>\n",
       "    </tr>\n",
       "    <tr>\n",
       "      <th>ID_MDL</th>\n",
       "      <th></th>\n",
       "    </tr>\n",
       "  </thead>\n",
       "  <tbody>\n",
       "    <tr>\n",
       "      <th>A04</th>\n",
       "      <td>411896</td>\n",
       "    </tr>\n",
       "    <tr>\n",
       "      <th>A01</th>\n",
       "      <td>181711</td>\n",
       "    </tr>\n",
       "    <tr>\n",
       "      <th>B99</th>\n",
       "      <td>115480</td>\n",
       "    </tr>\n",
       "    <tr>\n",
       "      <th>B05</th>\n",
       "      <td>30366</td>\n",
       "    </tr>\n",
       "    <tr>\n",
       "      <th>A99</th>\n",
       "      <td>15067</td>\n",
       "    </tr>\n",
       "    <tr>\n",
       "      <th>C01</th>\n",
       "      <td>12509</td>\n",
       "    </tr>\n",
       "    <tr>\n",
       "      <th>G01</th>\n",
       "      <td>11850</td>\n",
       "    </tr>\n",
       "    <tr>\n",
       "      <th>B03</th>\n",
       "      <td>4331</td>\n",
       "    </tr>\n",
       "    <tr>\n",
       "      <th>A05</th>\n",
       "      <td>1482</td>\n",
       "    </tr>\n",
       "    <tr>\n",
       "      <th>B01</th>\n",
       "      <td>945</td>\n",
       "    </tr>\n",
       "    <tr>\n",
       "      <th>B06</th>\n",
       "      <td>11</td>\n",
       "    </tr>\n",
       "    <tr>\n",
       "      <th>B07</th>\n",
       "      <td>4</td>\n",
       "    </tr>\n",
       "    <tr>\n",
       "      <th>F01</th>\n",
       "      <td>2</td>\n",
       "    </tr>\n",
       "  </tbody>\n",
       "</table>\n",
       "</div>"
      ],
      "text/plain": [
       "        QTD_OPR\n",
       "ID_MDL         \n",
       "A04      411896\n",
       "A01      181711\n",
       "B99      115480\n",
       "B05       30366\n",
       "A99       15067\n",
       "C01       12509\n",
       "G01       11850\n",
       "B03        4331\n",
       "A05        1482\n",
       "B01         945\n",
       "B06          11\n",
       "B07           4\n",
       "F01           2"
      ]
     },
     "execution_count": 65,
     "metadata": {},
     "output_type": "execute_result"
    }
   ],
   "source": [
    "# Soma das Operações por Modalidades.\n",
    "\n",
    "temp = dados_STG_OPR_ITT[['ID_MDL', 'QTD_OPR']].dropna()\n",
    "\n",
    "soma_opr_por_mdl = temp.groupby(['ID_MDL']).sum().sort_values(by = 'QTD_OPR', ascending = False)\n",
    "soma_opr_por_mdl"
   ]
  },
  {
   "cell_type": "code",
   "execution_count": 66,
   "metadata": {},
   "outputs": [
    {
     "data": {
      "text/plain": [
       "<matplotlib.legend.Legend at 0x7f1fbb41c2d0>"
      ]
     },
     "execution_count": 66,
     "metadata": {},
     "output_type": "execute_result"
    },
    {
     "data": {
      "image/png": "[encoded data removed]",
      "text/plain": [
       "<Figure size 792x504 with 1 Axes>"
      ]
     },
     "metadata": {
      "needs_background": "light"
     },
     "output_type": "display_data"
    }
   ],
   "source": [
    "# Criando um grafico para ficar mais visivel\n",
    "\n",
    "soma_opr_por_mdl.plot.bar()\n",
    "\n",
    "plt.title(\"Soma das Operações por Modalidade\", size=25); # Adicionando um título\n",
    "plt.xlabel('Código', size=15); # Nomeando o eixo X\n",
    "plt.ylabel('Quantidade', size=15); # Nomeando o eixo Y\n",
    "plt.legend()"
   ]
  },
  {
   "cell_type": "code",
   "execution_count": 67,
   "metadata": {},
   "outputs": [
    {
     "data": {
      "text/html": [
       "<div>\n",
       "<style scoped>\n",
       "    .dataframe tbody tr th:only-of-type {\n",
       "        vertical-align: middle;\n",
       "    }\n",
       "\n",
       "    .dataframe tbody tr th {\n",
       "        vertical-align: top;\n",
       "    }\n",
       "\n",
       "    .dataframe thead th {\n",
       "        text-align: right;\n",
       "    }\n",
       "</style>\n",
       "<table border=\"1\" class=\"dataframe\">\n",
       "  <thead>\n",
       "    <tr style=\"text-align: right;\">\n",
       "      <th></th>\n",
       "      <th>QTD_PCL</th>\n",
       "    </tr>\n",
       "    <tr>\n",
       "      <th>ID_MDL</th>\n",
       "      <th></th>\n",
       "    </tr>\n",
       "  </thead>\n",
       "  <tbody>\n",
       "    <tr>\n",
       "      <th>B03</th>\n",
       "      <td>49467</td>\n",
       "    </tr>\n",
       "    <tr>\n",
       "      <th>C01</th>\n",
       "      <td>20139</td>\n",
       "    </tr>\n",
       "    <tr>\n",
       "      <th>A01</th>\n",
       "      <td>7563</td>\n",
       "    </tr>\n",
       "    <tr>\n",
       "      <th>A04</th>\n",
       "      <td>7447</td>\n",
       "    </tr>\n",
       "    <tr>\n",
       "      <th>B99</th>\n",
       "      <td>5522</td>\n",
       "    </tr>\n",
       "    <tr>\n",
       "      <th>B05</th>\n",
       "      <td>2583</td>\n",
       "    </tr>\n",
       "    <tr>\n",
       "      <th>A99</th>\n",
       "      <td>630</td>\n",
       "    </tr>\n",
       "    <tr>\n",
       "      <th>A05</th>\n",
       "      <td>287</td>\n",
       "    </tr>\n",
       "    <tr>\n",
       "      <th>B01</th>\n",
       "      <td>230</td>\n",
       "    </tr>\n",
       "    <tr>\n",
       "      <th>B07</th>\n",
       "      <td>108</td>\n",
       "    </tr>\n",
       "    <tr>\n",
       "      <th>B06</th>\n",
       "      <td>100</td>\n",
       "    </tr>\n",
       "    <tr>\n",
       "      <th>F01</th>\n",
       "      <td>2</td>\n",
       "    </tr>\n",
       "    <tr>\n",
       "      <th>G01</th>\n",
       "      <td>1</td>\n",
       "    </tr>\n",
       "  </tbody>\n",
       "</table>\n",
       "</div>"
      ],
      "text/plain": [
       "        QTD_PCL\n",
       "ID_MDL         \n",
       "B03       49467\n",
       "C01       20139\n",
       "A01        7563\n",
       "A04        7447\n",
       "B99        5522\n",
       "B05        2583\n",
       "A99         630\n",
       "A05         287\n",
       "B01         230\n",
       "B07         108\n",
       "B06         100\n",
       "F01           2\n",
       "G01           1"
      ]
     },
     "execution_count": 67,
     "metadata": {},
     "output_type": "execute_result"
    }
   ],
   "source": [
    "# Soma das Parcelas por Modalidades.\n",
    "\n",
    "temp = dados_STG_OPR_ITT[['ID_MDL', 'QTD_PCL']].dropna()\n",
    "\n",
    "soma_parcela_por_mdl = temp.groupby(['ID_MDL']).sum().sort_values(by = 'QTD_PCL', ascending = False)\n",
    "soma_parcela_por_mdl"
   ]
  },
  {
   "cell_type": "code",
   "execution_count": 68,
   "metadata": {},
   "outputs": [
    {
     "data": {
      "image/png": "[encoded data removed]",
      "text/plain": [
       "<Figure size 792x504 with 1 Axes>"
      ]
     },
     "metadata": {
      "needs_background": "light"
     },
     "output_type": "display_data"
    }
   ],
   "source": [
    "# Criando um grafico para ficar mais visivel\n",
    "\n",
    "soma_parcela_por_mdl.plot.bar()\n",
    "\n",
    "plt.title(\"Soma das Parcelas por Modalidade\", size=25); # Adicionando um título\n",
    "plt.xlabel('Código', size=15); # Nomeando o eixo X\n",
    "plt.ylabel('Quantidade', size=15); # Nomeando o eixo Y"
   ]
  },
  {
   "cell_type": "code",
   "execution_count": null,
   "metadata": {},
   "outputs": [],
   "source": []
  }
 ],
 "metadata": {
  "kernelspec": {
   "display_name": "Python 3",
   "language": "python",
   "name": "python3"
  },
  "language_info": {
   "codemirror_mode": {
    "name": "ipython",
    "version": 3
   },
   "file_extension": ".py",
   "mimetype": "text/x-python",
   "name": "python",
   "nbconvert_exporter": "python",
   "pygments_lexer": "ipython3",
   "version": "3.7.5"
  }
 },
 "nbformat": 4,
 "nbformat_minor": 4
}

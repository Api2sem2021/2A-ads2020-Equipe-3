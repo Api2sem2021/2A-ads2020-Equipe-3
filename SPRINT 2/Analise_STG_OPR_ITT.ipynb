{
 "cells": [
  {
   "cell_type": "markdown",
   "metadata": {},
   "source": [
    "# Análise do DataFrame STG_OPR_ITT"
   ]
  },
  {
   "cell_type": "markdown",
   "metadata": {},
   "source": [
    "## Importando as bibliotecas."
   ]
  },
  {
   "cell_type": "code",
   "execution_count": 8,
   "metadata": {},
   "outputs": [],
   "source": [
    "import pandas as pd\n",
    "import matplotlib.pyplot as plt"
   ]
  },
  {
   "cell_type": "markdown",
   "metadata": {},
   "source": [
    "## Configurando o tamanho padrão dos gráficos."
   ]
  },
  {
   "cell_type": "code",
   "execution_count": 9,
   "metadata": {},
   "outputs": [],
   "source": [
    "plt.rcParams['figure.figsize'] = (11,7)"
   ]
  },
  {
   "cell_type": "markdown",
   "metadata": {},
   "source": [
    "## Carregando os dados necessarios."
   ]
  },
  {
   "cell_type": "code",
   "execution_count": 33,
   "metadata": {},
   "outputs": [],
   "source": [
    "# DataFrame principal.\n",
    "dados_STG_OPR_ITT = pd.read_excel('STG_OPR_ITT.xlsx') # DataFrame de Operações.\n",
    "\n",
    "# DataFrame para validação (esse será usado para validar as modalidades do principal).\n",
    "dados_STG_MDL = pd.read_excel('STG_MDL.xlsx') # DataFrame das Modalidades."
   ]
  },
  {
   "cell_type": "markdown",
   "metadata": {},
   "source": [
    "## Dando uma descrição inicial do DataFrame STG_OPR_ITT."
   ]
  },
  {
   "cell_type": "code",
   "execution_count": 104,
   "metadata": {},
   "outputs": [
    {
     "name": "stdout",
     "output_type": "stream",
     "text": [
      "------------------------------------------------------------\n",
      "O DataFrame STG_OPR_ITT tem 891 linhas e 11 colunas.\n",
      "------------------------------------------------------------\n",
      "Contendo as colunas: \n",
      "0 - ID_STG_OPR_ITT\n",
      "1 - VLR_CTRD_CSC\n",
      "2 - QTD_PCL\n",
      "3 - VLR_SDO_DDR\n",
      "4 - QTD_CLI_CAD_POS\n",
      "5 - QTD_OPR\n",
      "6 - ID_FNT_ITT\n",
      "7 - ID_MDL\n",
      "8 - DES_TIP_PSS\n",
      "9 - DAT_RSS_FNT_ITT\n",
      "10 - DAT_INC_DBO\n",
      "------------------------------------------------------------\n"
     ]
    }
   ],
   "source": [
    "linhas = dados_STG_OPR_ITT.shape[0] # Pegando o total de linhas.\n",
    "colunas = dados_STG_OPR_ITT.shape[1] # Pegando o total de colunas.\n",
    "\n",
    "print('-' * 60)\n",
    "\n",
    "print(f'O DataFrame STG_OPR_ITT tem {linhas} linhas e {colunas} colunas.')\n",
    "\n",
    "print('-' * 60)\n",
    "\n",
    "print('Contendo as colunas: ')\n",
    "for index, coluna in enumerate(dados_STG_OPR_ITT.columns): # Pegando as colunas existentes nele.\n",
    "    print(f'{index} - {coluna}') # Mostrando-as.\n",
    "    \n",
    "print('-' * 60)"
   ]
  },
  {
   "cell_type": "markdown",
   "metadata": {},
   "source": [
    "## Repetindo o processo para o DataFrame STG_MDL."
   ]
  },
  {
   "cell_type": "code",
   "execution_count": 105,
   "metadata": {},
   "outputs": [
    {
     "name": "stdout",
     "output_type": "stream",
     "text": [
      "------------------------------------------------------------\n",
      "O DataFrame STG_MDL tem 19 linhas e 4 colunas.\n",
      "------------------------------------------------------------\n",
      "Contendo as colunas: \n",
      "0 - ID_STG_MDL\n",
      "1 - COD_MDL\n",
      "2 - DES_MDL\n",
      "3 - DAT_INC_DBO\n",
      "------------------------------------------------------------\n"
     ]
    }
   ],
   "source": [
    "linhas = dados_STG_MDL.shape[0]\n",
    "colunas = dados_STG_MDL.shape[1]\n",
    "\n",
    "print('-' * 60)\n",
    "\n",
    "print(f'O DataFrame STG_MDL tem {linhas} linhas e {colunas} colunas.')\n",
    "\n",
    "print('-' * 60)\n",
    "\n",
    "print('Contendo as colunas: ')\n",
    "for index, coluna in enumerate(dados_STG_MDL.columns): \n",
    "    print(f'{index} - {coluna}')\n",
    "    \n",
    "print('-' * 60)"
   ]
  },
  {
   "cell_type": "markdown",
   "metadata": {},
   "source": [
    "## Analisando a Integridade dos dados"
   ]
  },
  {
   "cell_type": "markdown",
   "metadata": {},
   "source": [
    " __Obs:__ Análise dividida em duas partes, pois o código C01 (consórcio) precisa de um tratamento especial.\n",
    " \n",
    " __-1ª parte:__ Acontecerá __SEM__ as linhas com o código C01 e também __SEM__ as colunas 'VLR_CTRD_CSC' e 'VLR_SDO_DDR'.\n",
    " \n",
    " __-2ª parte:__ Acontecerá __SOMENTE COM__ as linhas com o código C01 e também __COM__ todas as colunas."
   ]
  },
  {
   "cell_type": "markdown",
   "metadata": {},
   "source": [
    "### Analisando SEM o código C01 (consórcio)."
   ]
  },
  {
   "cell_type": "code",
   "execution_count": 83,
   "metadata": {},
   "outputs": [
    {
     "name": "stdout",
     "output_type": "stream",
     "text": [
      " COLUNAS         VALORES VÁLIDOS\n",
      "ID_STG_OPR_ITT      |705|\n",
      "QTD_PCL             |705|\n",
      "QTD_CLI_CAD_POS     |705|\n",
      "QTD_OPR             |705|\n",
      "ID_FNT_ITT          |705|\n",
      "ID_MDL              |705|\n",
      "DES_TIP_PSS         |705|\n",
      "DAT_RSS_FNT_ITT     |705|\n",
      "DAT_INC_DBO         |705|\n",
      "\n"
     ]
    }
   ],
   "source": [
    "# Selecionando somente as linhas com o ID_MDL diferente a C01 (consórcio).\n",
    "temp = dados_STG_OPR_ITT.drop(columns = ['VLR_CTRD_CSC', 'VLR_SDO_DDR'])\n",
    "\n",
    "# Selecionando somente as linhas com o ID_MDL diferente a C01 (consórcio).\n",
    "analisar = temp[temp['ID_MDL'] != 'C01'] \n",
    "analisar = analisar.notnull().count()\n",
    "\n",
    "print(f'{\" COLUNAS\":<16} VALORES VÁLIDOS')\n",
    "print(''.join(f'{x[0]:<20}|{x[1]}|\\n' for x in analisar.items()))"
   ]
  },
  {
   "cell_type": "markdown",
   "metadata": {},
   "source": [
    "### Analisando SOMENTE COM o código C01 (consórcio)."
   ]
  },
  {
   "cell_type": "code",
   "execution_count": 84,
   "metadata": {},
   "outputs": [
    {
     "name": "stdout",
     "output_type": "stream",
     "text": [
      " COLUNAS         VALORES VÁLIDOS\n",
      "ID_STG_OPR_ITT      |186|\n",
      "VLR_CTRD_CSC        |186|\n",
      "QTD_PCL             |186|\n",
      "VLR_SDO_DDR         |186|\n",
      "QTD_CLI_CAD_POS     |186|\n",
      "QTD_OPR             |186|\n",
      "ID_FNT_ITT          |186|\n",
      "ID_MDL              |186|\n",
      "DES_TIP_PSS         |186|\n",
      "DAT_RSS_FNT_ITT     |186|\n",
      "DAT_INC_DBO         |186|\n",
      "\n"
     ]
    }
   ],
   "source": [
    "# Selecionando somente as linhas com o ID_MDL igual a C01 (consórcio).\n",
    "temp = dados_STG_OPR_ITT.copy()\n",
    "analisar = temp[temp['ID_MDL'] == 'C01'] \n",
    "analisar = analisar.notnull().count()\n",
    "\n",
    "print(f'{\" COLUNAS\":<16} VALORES VÁLIDOS')\n",
    "print(''.join(f'{x[0]:<20}|{x[1]}|\\n' for x in analisar.items()))"
   ]
  },
  {
   "cell_type": "markdown",
   "metadata": {},
   "source": [
    "## Convertendo os valores para acrescentar dois decimais."
   ]
  },
  {
   "cell_type": "code",
   "execution_count": 4,
   "metadata": {},
   "outputs": [
    {
     "name": "stdout",
     "output_type": "stream",
     "text": [
      "------------------------------------------------------------\n",
      "Coluna: VLR_CTRD_CSC\n",
      "\n",
      "R$           242311.68\n",
      "R$           837200.00\n",
      "R$          4534094.14\n",
      "R$          8318873.55\n",
      "R$          1687200.00\n",
      "R$           322324.54\n",
      "R$          5760952.64\n",
      "R$          5288794.11\n",
      "R$          4953127.77\n",
      "R$         67084212.43\n",
      "------------------------------------------------------------\n",
      "Coluna: VLR_SDO_DDR\n",
      "\n",
      "R$           147746.41\n",
      "R$           611460.76\n",
      "R$          3455692.91\n",
      "R$          3872932.36\n",
      "R$           471518.18\n",
      "R$           175493.07\n",
      "R$          3031500.68\n",
      "R$          2470154.82\n",
      "R$          2411390.67\n",
      "R$         59327136.31\n"
     ]
    }
   ],
   "source": [
    "colunas = ['VLR_CTRD_CSC', 'VLR_SDO_DDR'] # Colunas a serem convertidas.\n",
    "\n",
    "for coluna in colunas:\n",
    "    print('-' * 60 + f'\\nColuna: {coluna}\\n')\n",
    "    \n",
    "    for index, antes in enumerate(dados_STG_OPR_ITT[coluna].dropna()):\n",
    "        depois = antes * 0.01\n",
    "        dados_STG_OPR_ITT[coluna] = dados_STG_OPR_ITT[coluna].replace(antes, depois) # Trocando o velho pelo novo.\n",
    "\n",
    "        if index < 10: # Essa parte serve somente para limitar a amostragem dos valores.\n",
    "            print(f'R${depois:>20.2f}') # Mostrando alguns exemplos."
   ]
  },
  {
   "cell_type": "markdown",
   "metadata": {},
   "source": [
    "## Validando as modalidades."
   ]
  },
  {
   "cell_type": "code",
   "execution_count": 8,
   "metadata": {},
   "outputs": [
    {
     "name": "stdout",
     "output_type": "stream",
     "text": [
      "------------------------------------------------------------\n",
      "Códigos para validar: \n",
      "A04 - B99 - B05 - B03 - C01 - A01 - A99 - B01 - A05 - B07 - F01 - B06 - G01\n",
      "------------------------------------------------------------\n",
      "A04 = OK\n",
      "B99 = OK\n",
      "B05 = OK\n",
      "B03 = OK\n",
      "C01 = OK\n",
      "A01 = OK\n",
      "A99 = OK\n",
      "B01 = OK\n",
      "A05 = OK\n",
      "B07 = OK\n",
      "F01 = OK\n",
      "B06 = OK\n",
      "G01 = OK\n"
     ]
    }
   ],
   "source": [
    "validar = dados_STG_OPR_ITT['ID_MDL'].unique() # Pegando somente os IDs únicos para ser validado.\n",
    "\n",
    "print('-' * 60)\n",
    "print(f'Códigos para validar: \\n' + ' - '.join(validar))\n",
    "print('-' * 60)\n",
    "\n",
    "# Atribuindo os códigos existentes em uma lista para poder usar o 'in'. \n",
    "codigos_existentes = [x for x in dados_STG_MDL['COD_MDL']] \n",
    "\n",
    "for codigo in validar:\n",
    "    print(codigo, end = ' = ')\n",
    "    \n",
    "    if codigo in codigos_existentes: # Verificando se o código existe nos existentes.\n",
    "        print('OK')\n",
    "    \n",
    "    else:\n",
    "        print('FAIL')"
   ]
  },
  {
   "cell_type": "markdown",
   "metadata": {},
   "source": [
    "## Adicionando uma nova coluna (MDL_DESCRICAO) ao DataFrame principal."
   ]
  },
  {
   "cell_type": "markdown",
   "metadata": {},
   "source": [
    "### Primeiramente criando um dicionário com o código e sua respectiva descrição para facilitar o processo."
   ]
  },
  {
   "cell_type": "code",
   "execution_count": 135,
   "metadata": {},
   "outputs": [
    {
     "data": {
      "text/plain": [
       "{'E02': 'ADIANTAMENTO DEPOSITANTE',\n",
       " 'B99': 'OUTROS FINANCIAMENTOS',\n",
       " 'D01': 'CARTAO DE CREDITO',\n",
       " 'G01': 'TITULOS DESCONTADOS',\n",
       " 'A02': 'EMPRESTIMO - CAPITAL DE GIRO',\n",
       " 'A04': 'EMPRESTIMO - CREDITO PESSOAL',\n",
       " 'E01': 'CHEQUE ESPECIAL E CONTA GARANTIDA',\n",
       " 'B03': 'FINANCIAMENTO - IMOBILIARIOS SFH',\n",
       " 'B02': 'FINANCIAMENTO - IMPORTACAO  E EXPORTACAO',\n",
       " 'A05': 'EMPRESTIMO - MICROCREDITO',\n",
       " 'B04': 'FINANCIAMENTO - MICROCREDITO',\n",
       " 'B07': 'FINANCIAMENTO - ARREENDAMENTO',\n",
       " 'F01': 'AVAIS E FIANCASA HONRADOS',\n",
       " 'B06': 'FINANCIAMENTO - IMOBILIARIO (OUTROS)',\n",
       " 'C01': 'CONSORCIO',\n",
       " 'A01': 'EMPRESTIMO - CONSIGNADO',\n",
       " 'B05': 'FINANCIAMENTO - AQUISICAO DE BENS (VEICULOS)',\n",
       " 'A99': 'OUTROS EMPRESTIMOS',\n",
       " 'B01': 'FINANCIAMENTO - RURAL E AGROINDUSTRIAL'}"
      ]
     },
     "execution_count": 135,
     "metadata": {},
     "output_type": "execute_result"
    }
   ],
   "source": [
    "new = dados_STG_MDL[['COD_MDL', 'DES_MDL']] # Escolhendo as colunas necessárias.\n",
    "dictionary = new.set_index('COD_MDL').T.to_dict('list') # Convertendo em um dicionário (valores em lista).\n",
    "\n",
    "for key, value in dictionary.items():\n",
    "    dictionary[key] = str(value).strip(\"['']\") # Convertendo os valores (em lista) para string.\n",
    "    \n",
    "dictionary # Mostrando o dicionário final."
   ]
  },
  {
   "cell_type": "markdown",
   "metadata": {},
   "source": [
    "### Linha por linha atribuindo ao respectivo código a sua descrição."
   ]
  },
  {
   "cell_type": "code",
   "execution_count": 10,
   "metadata": {},
   "outputs": [
    {
     "data": {
      "text/html": [
       "<div>\n",
       "<style scoped>\n",
       "    .dataframe tbody tr th:only-of-type {\n",
       "        vertical-align: middle;\n",
       "    }\n",
       "\n",
       "    .dataframe tbody tr th {\n",
       "        vertical-align: top;\n",
       "    }\n",
       "\n",
       "    .dataframe thead th {\n",
       "        text-align: right;\n",
       "    }\n",
       "</style>\n",
       "<table border=\"1\" class=\"dataframe\">\n",
       "  <thead>\n",
       "    <tr style=\"text-align: right;\">\n",
       "      <th></th>\n",
       "      <th>ID_MDL</th>\n",
       "      <th>MDL_DESCRICAO</th>\n",
       "    </tr>\n",
       "  </thead>\n",
       "  <tbody>\n",
       "    <tr>\n",
       "      <th>0</th>\n",
       "      <td>A04</td>\n",
       "      <td>EMPRESTIMO - CREDITO PESSOAL</td>\n",
       "    </tr>\n",
       "    <tr>\n",
       "      <th>1</th>\n",
       "      <td>B99</td>\n",
       "      <td>OUTROS FINANCIAMENTOS</td>\n",
       "    </tr>\n",
       "    <tr>\n",
       "      <th>2</th>\n",
       "      <td>B05</td>\n",
       "      <td>FINANCIAMENTO - AQUISICAO DE BENS (VEICULOS)</td>\n",
       "    </tr>\n",
       "    <tr>\n",
       "      <th>3</th>\n",
       "      <td>B03</td>\n",
       "      <td>FINANCIAMENTO - IMOBILIARIOS SFH</td>\n",
       "    </tr>\n",
       "    <tr>\n",
       "      <th>4</th>\n",
       "      <td>B03</td>\n",
       "      <td>FINANCIAMENTO - IMOBILIARIOS SFH</td>\n",
       "    </tr>\n",
       "  </tbody>\n",
       "</table>\n",
       "</div>"
      ],
      "text/plain": [
       "  ID_MDL                                 MDL_DESCRICAO\n",
       "0    A04                  EMPRESTIMO - CREDITO PESSOAL\n",
       "1    B99                         OUTROS FINANCIAMENTOS\n",
       "2    B05  FINANCIAMENTO - AQUISICAO DE BENS (VEICULOS)\n",
       "3    B03              FINANCIAMENTO - IMOBILIARIOS SFH\n",
       "4    B03              FINANCIAMENTO - IMOBILIARIOS SFH"
      ]
     },
     "execution_count": 10,
     "metadata": {},
     "output_type": "execute_result"
    }
   ],
   "source": [
    "dados_STG_OPR_ITT['MDL_DESCRICAO'] = [dictionary[resp] for resp in dados_STG_OPR_ITT['ID_MDL']]\n",
    "dados_STG_OPR_ITT[['ID_MDL', 'MDL_DESCRICAO']].head()"
   ]
  },
  {
   "cell_type": "markdown",
   "metadata": {},
   "source": [
    "## Analisando o total de operações por modalidades."
   ]
  },
  {
   "cell_type": "code",
   "execution_count": 45,
   "metadata": {},
   "outputs": [
    {
     "data": {
      "text/html": [
       "<div>\n",
       "<style scoped>\n",
       "    .dataframe tbody tr th:only-of-type {\n",
       "        vertical-align: middle;\n",
       "    }\n",
       "\n",
       "    .dataframe tbody tr th {\n",
       "        vertical-align: top;\n",
       "    }\n",
       "\n",
       "    .dataframe thead th {\n",
       "        text-align: right;\n",
       "    }\n",
       "</style>\n",
       "<table border=\"1\" class=\"dataframe\">\n",
       "  <thead>\n",
       "    <tr style=\"text-align: right;\">\n",
       "      <th></th>\n",
       "      <th>ID_STG_OPR_ITT</th>\n",
       "    </tr>\n",
       "    <tr>\n",
       "      <th>MDL_DESCRICAO</th>\n",
       "      <th></th>\n",
       "    </tr>\n",
       "  </thead>\n",
       "  <tbody>\n",
       "    <tr>\n",
       "      <th>FINANCIAMENTO - IMOBILIARIOS SFH</th>\n",
       "      <td>214</td>\n",
       "    </tr>\n",
       "    <tr>\n",
       "      <th>CONSORCIO</th>\n",
       "      <td>186</td>\n",
       "    </tr>\n",
       "    <tr>\n",
       "      <th>EMPRESTIMO - CONSIGNADO</th>\n",
       "      <td>122</td>\n",
       "    </tr>\n",
       "    <tr>\n",
       "      <th>EMPRESTIMO - CREDITO PESSOAL</th>\n",
       "      <td>112</td>\n",
       "    </tr>\n",
       "    <tr>\n",
       "      <th>OUTROS FINANCIAMENTOS</th>\n",
       "      <td>104</td>\n",
       "    </tr>\n",
       "    <tr>\n",
       "      <th>FINANCIAMENTO - AQUISICAO DE BENS (VEICULOS)</th>\n",
       "      <td>71</td>\n",
       "    </tr>\n",
       "    <tr>\n",
       "      <th>OUTROS EMPRESTIMOS</th>\n",
       "      <td>35</td>\n",
       "    </tr>\n",
       "    <tr>\n",
       "      <th>EMPRESTIMO - MICROCREDITO</th>\n",
       "      <td>20</td>\n",
       "    </tr>\n",
       "    <tr>\n",
       "      <th>FINANCIAMENTO - RURAL E AGROINDUSTRIAL</th>\n",
       "      <td>19</td>\n",
       "    </tr>\n",
       "    <tr>\n",
       "      <th>FINANCIAMENTO - IMOBILIARIO (OUTROS)</th>\n",
       "      <td>4</td>\n",
       "    </tr>\n",
       "    <tr>\n",
       "      <th>FINANCIAMENTO - ARREENDAMENTO</th>\n",
       "      <td>2</td>\n",
       "    </tr>\n",
       "    <tr>\n",
       "      <th>AVAIS E FIANCASA HONRADOS</th>\n",
       "      <td>1</td>\n",
       "    </tr>\n",
       "    <tr>\n",
       "      <th>TITULOS DESCONTADOS</th>\n",
       "      <td>1</td>\n",
       "    </tr>\n",
       "  </tbody>\n",
       "</table>\n",
       "</div>"
      ],
      "text/plain": [
       "                                              ID_STG_OPR_ITT\n",
       "MDL_DESCRICAO                                               \n",
       "FINANCIAMENTO - IMOBILIARIOS SFH                         214\n",
       "CONSORCIO                                                186\n",
       "EMPRESTIMO - CONSIGNADO                                  122\n",
       "EMPRESTIMO - CREDITO PESSOAL                             112\n",
       "OUTROS FINANCIAMENTOS                                    104\n",
       "FINANCIAMENTO - AQUISICAO DE BENS (VEICULOS)              71\n",
       "OUTROS EMPRESTIMOS                                        35\n",
       "EMPRESTIMO - MICROCREDITO                                 20\n",
       "FINANCIAMENTO - RURAL E AGROINDUSTRIAL                    19\n",
       "FINANCIAMENTO - IMOBILIARIO (OUTROS)                       4\n",
       "FINANCIAMENTO - ARREENDAMENTO                              2\n",
       "AVAIS E FIANCASA HONRADOS                                  1\n",
       "TITULOS DESCONTADOS                                        1"
      ]
     },
     "execution_count": 45,
     "metadata": {},
     "output_type": "execute_result"
    }
   ],
   "source": [
    "analisar = dados_STG_OPR_ITT[['MDL_DESCRICAO', 'ID_STG_OPR_ITT']]\n",
    "\n",
    "mdl_mais_usadas = analisar.groupby('MDL_DESCRICAO').count().sort_values(by = 'ID_STG_OPR_ITT', ascending = False)\n",
    "mdl_mais_usadas"
   ]
  },
  {
   "cell_type": "markdown",
   "metadata": {},
   "source": [
    "### Criando um gráfico."
   ]
  },
  {
   "cell_type": "code",
   "execution_count": 46,
   "metadata": {},
   "outputs": [
    {
     "data": {
      "text/plain": [
       "<matplotlib.legend.Legend at 0x7fdfd5d26550>"
      ]
     },
     "execution_count": 46,
     "metadata": {},
     "output_type": "execute_result"
    },
    {
     "data": {
      "image/png": "[encoded data removed]",
      "text/plain": [
       "<Figure size 792x504 with 1 Axes>"
      ]
     },
     "metadata": {
      "needs_background": "light"
     },
     "output_type": "display_data"
    }
   ],
   "source": [
    "mdl_mais_usadas.plot(kind = 'barh', edgecolor='black')\n",
    "plt.title(\"Modalidades Mais Usadas\", size=25); # Adicionando um título.\n",
    "plt.xlabel('', size=15); # Nomeando o eixo X.\n",
    "plt.ylabel('', size=15); # Nomeando o eixo Y.\n",
    "plt.legend(['Quantidade'], fontsize = 'large', edgecolor = 'black') # Configurando a legenda."
   ]
  },
  {
   "cell_type": "markdown",
   "metadata": {},
   "source": [
    "## Analisando a soma das operações por modalidades."
   ]
  },
  {
   "cell_type": "code",
   "execution_count": 48,
   "metadata": {},
   "outputs": [
    {
     "data": {
      "text/html": [
       "<div>\n",
       "<style scoped>\n",
       "    .dataframe tbody tr th:only-of-type {\n",
       "        vertical-align: middle;\n",
       "    }\n",
       "\n",
       "    .dataframe tbody tr th {\n",
       "        vertical-align: top;\n",
       "    }\n",
       "\n",
       "    .dataframe thead th {\n",
       "        text-align: right;\n",
       "    }\n",
       "</style>\n",
       "<table border=\"1\" class=\"dataframe\">\n",
       "  <thead>\n",
       "    <tr style=\"text-align: right;\">\n",
       "      <th></th>\n",
       "      <th>QTD_OPR</th>\n",
       "    </tr>\n",
       "    <tr>\n",
       "      <th>MDL_DESCRICAO</th>\n",
       "      <th></th>\n",
       "    </tr>\n",
       "  </thead>\n",
       "  <tbody>\n",
       "    <tr>\n",
       "      <th>EMPRESTIMO - CREDITO PESSOAL</th>\n",
       "      <td>411896</td>\n",
       "    </tr>\n",
       "    <tr>\n",
       "      <th>EMPRESTIMO - CONSIGNADO</th>\n",
       "      <td>181711</td>\n",
       "    </tr>\n",
       "    <tr>\n",
       "      <th>OUTROS FINANCIAMENTOS</th>\n",
       "      <td>115480</td>\n",
       "    </tr>\n",
       "    <tr>\n",
       "      <th>FINANCIAMENTO - AQUISICAO DE BENS (VEICULOS)</th>\n",
       "      <td>30366</td>\n",
       "    </tr>\n",
       "    <tr>\n",
       "      <th>OUTROS EMPRESTIMOS</th>\n",
       "      <td>15067</td>\n",
       "    </tr>\n",
       "    <tr>\n",
       "      <th>CONSORCIO</th>\n",
       "      <td>12509</td>\n",
       "    </tr>\n",
       "    <tr>\n",
       "      <th>TITULOS DESCONTADOS</th>\n",
       "      <td>11850</td>\n",
       "    </tr>\n",
       "    <tr>\n",
       "      <th>FINANCIAMENTO - IMOBILIARIOS SFH</th>\n",
       "      <td>4331</td>\n",
       "    </tr>\n",
       "    <tr>\n",
       "      <th>EMPRESTIMO - MICROCREDITO</th>\n",
       "      <td>1482</td>\n",
       "    </tr>\n",
       "    <tr>\n",
       "      <th>FINANCIAMENTO - RURAL E AGROINDUSTRIAL</th>\n",
       "      <td>945</td>\n",
       "    </tr>\n",
       "    <tr>\n",
       "      <th>FINANCIAMENTO - IMOBILIARIO (OUTROS)</th>\n",
       "      <td>11</td>\n",
       "    </tr>\n",
       "    <tr>\n",
       "      <th>FINANCIAMENTO - ARREENDAMENTO</th>\n",
       "      <td>4</td>\n",
       "    </tr>\n",
       "    <tr>\n",
       "      <th>AVAIS E FIANCASA HONRADOS</th>\n",
       "      <td>2</td>\n",
       "    </tr>\n",
       "  </tbody>\n",
       "</table>\n",
       "</div>"
      ],
      "text/plain": [
       "                                              QTD_OPR\n",
       "MDL_DESCRICAO                                        \n",
       "EMPRESTIMO - CREDITO PESSOAL                   411896\n",
       "EMPRESTIMO - CONSIGNADO                        181711\n",
       "OUTROS FINANCIAMENTOS                          115480\n",
       "FINANCIAMENTO - AQUISICAO DE BENS (VEICULOS)    30366\n",
       "OUTROS EMPRESTIMOS                              15067\n",
       "CONSORCIO                                       12509\n",
       "TITULOS DESCONTADOS                             11850\n",
       "FINANCIAMENTO - IMOBILIARIOS SFH                 4331\n",
       "EMPRESTIMO - MICROCREDITO                        1482\n",
       "FINANCIAMENTO - RURAL E AGROINDUSTRIAL            945\n",
       "FINANCIAMENTO - IMOBILIARIO (OUTROS)               11\n",
       "FINANCIAMENTO - ARREENDAMENTO                       4\n",
       "AVAIS E FIANCASA HONRADOS                           2"
      ]
     },
     "execution_count": 48,
     "metadata": {},
     "output_type": "execute_result"
    }
   ],
   "source": [
    "analisar = dados_STG_OPR_ITT[['MDL_DESCRICAO', 'QTD_OPR']].dropna()\n",
    "\n",
    "soma_opr_por_mdl = analisar.groupby('MDL_DESCRICAO').sum().sort_values(by = 'QTD_OPR', ascending = False)\n",
    "soma_opr_por_mdl"
   ]
  },
  {
   "cell_type": "markdown",
   "metadata": {},
   "source": [
    "### Criando um gráfico."
   ]
  },
  {
   "cell_type": "code",
   "execution_count": 52,
   "metadata": {},
   "outputs": [
    {
     "data": {
      "text/plain": [
       "<matplotlib.legend.Legend at 0x7fdfd856da90>"
      ]
     },
     "execution_count": 52,
     "metadata": {},
     "output_type": "execute_result"
    },
    {
     "data": {
      "image/png": "[encoded data removed]",
      "text/plain": [
       "<Figure size 792x504 with 1 Axes>"
      ]
     },
     "metadata": {
      "needs_background": "light"
     },
     "output_type": "display_data"
    }
   ],
   "source": [
    "soma_opr_por_mdl.plot(kind = 'barh', edgecolor='black')\n",
    "plt.title(\"Soma das Operações por Modalidade\", size=25); # Adicionando um título.\n",
    "plt.xlabel('', size=15); # Nomeando o eixo X.\n",
    "plt.ylabel('', size=15); # Nomeando o eixo Y.\n",
    "plt.legend(['Quantidade'], fontsize = 'large', edgecolor = 'black') # Configurando a legenda."
   ]
  },
  {
   "cell_type": "markdown",
   "metadata": {},
   "source": [
    "## Analisando a soma das operações por modalidades."
   ]
  },
  {
   "cell_type": "code",
   "execution_count": 53,
   "metadata": {},
   "outputs": [
    {
     "data": {
      "text/html": [
       "<div>\n",
       "<style scoped>\n",
       "    .dataframe tbody tr th:only-of-type {\n",
       "        vertical-align: middle;\n",
       "    }\n",
       "\n",
       "    .dataframe tbody tr th {\n",
       "        vertical-align: top;\n",
       "    }\n",
       "\n",
       "    .dataframe thead th {\n",
       "        text-align: right;\n",
       "    }\n",
       "</style>\n",
       "<table border=\"1\" class=\"dataframe\">\n",
       "  <thead>\n",
       "    <tr style=\"text-align: right;\">\n",
       "      <th></th>\n",
       "      <th>QTD_PCL</th>\n",
       "    </tr>\n",
       "    <tr>\n",
       "      <th>MDL_DESCRICAO</th>\n",
       "      <th></th>\n",
       "    </tr>\n",
       "  </thead>\n",
       "  <tbody>\n",
       "    <tr>\n",
       "      <th>FINANCIAMENTO - IMOBILIARIOS SFH</th>\n",
       "      <td>49467</td>\n",
       "    </tr>\n",
       "    <tr>\n",
       "      <th>CONSORCIO</th>\n",
       "      <td>20139</td>\n",
       "    </tr>\n",
       "    <tr>\n",
       "      <th>EMPRESTIMO - CONSIGNADO</th>\n",
       "      <td>7563</td>\n",
       "    </tr>\n",
       "    <tr>\n",
       "      <th>EMPRESTIMO - CREDITO PESSOAL</th>\n",
       "      <td>7447</td>\n",
       "    </tr>\n",
       "    <tr>\n",
       "      <th>OUTROS FINANCIAMENTOS</th>\n",
       "      <td>5522</td>\n",
       "    </tr>\n",
       "    <tr>\n",
       "      <th>FINANCIAMENTO - AQUISICAO DE BENS (VEICULOS)</th>\n",
       "      <td>2583</td>\n",
       "    </tr>\n",
       "    <tr>\n",
       "      <th>OUTROS EMPRESTIMOS</th>\n",
       "      <td>630</td>\n",
       "    </tr>\n",
       "    <tr>\n",
       "      <th>EMPRESTIMO - MICROCREDITO</th>\n",
       "      <td>287</td>\n",
       "    </tr>\n",
       "    <tr>\n",
       "      <th>FINANCIAMENTO - RURAL E AGROINDUSTRIAL</th>\n",
       "      <td>230</td>\n",
       "    </tr>\n",
       "    <tr>\n",
       "      <th>FINANCIAMENTO - ARREENDAMENTO</th>\n",
       "      <td>108</td>\n",
       "    </tr>\n",
       "    <tr>\n",
       "      <th>FINANCIAMENTO - IMOBILIARIO (OUTROS)</th>\n",
       "      <td>100</td>\n",
       "    </tr>\n",
       "    <tr>\n",
       "      <th>AVAIS E FIANCASA HONRADOS</th>\n",
       "      <td>2</td>\n",
       "    </tr>\n",
       "    <tr>\n",
       "      <th>TITULOS DESCONTADOS</th>\n",
       "      <td>1</td>\n",
       "    </tr>\n",
       "  </tbody>\n",
       "</table>\n",
       "</div>"
      ],
      "text/plain": [
       "                                              QTD_PCL\n",
       "MDL_DESCRICAO                                        \n",
       "FINANCIAMENTO - IMOBILIARIOS SFH                49467\n",
       "CONSORCIO                                       20139\n",
       "EMPRESTIMO - CONSIGNADO                          7563\n",
       "EMPRESTIMO - CREDITO PESSOAL                     7447\n",
       "OUTROS FINANCIAMENTOS                            5522\n",
       "FINANCIAMENTO - AQUISICAO DE BENS (VEICULOS)     2583\n",
       "OUTROS EMPRESTIMOS                                630\n",
       "EMPRESTIMO - MICROCREDITO                         287\n",
       "FINANCIAMENTO - RURAL E AGROINDUSTRIAL            230\n",
       "FINANCIAMENTO - ARREENDAMENTO                     108\n",
       "FINANCIAMENTO - IMOBILIARIO (OUTROS)              100\n",
       "AVAIS E FIANCASA HONRADOS                           2\n",
       "TITULOS DESCONTADOS                                 1"
      ]
     },
     "execution_count": 53,
     "metadata": {},
     "output_type": "execute_result"
    }
   ],
   "source": [
    "analisar = dados_STG_OPR_ITT[['MDL_DESCRICAO', 'QTD_PCL']].dropna()\n",
    "\n",
    "soma_parcela_por_mdl = analisar.groupby('MDL_DESCRICAO').sum().sort_values(by = 'QTD_PCL', ascending = False)\n",
    "soma_parcela_por_mdl"
   ]
  },
  {
   "cell_type": "markdown",
   "metadata": {},
   "source": [
    "### Criando um gráfico."
   ]
  },
  {
   "cell_type": "code",
   "execution_count": 130,
   "metadata": {},
   "outputs": [
    {
     "data": {
      "text/plain": [
       "<matplotlib.legend.Legend at 0x7fdfd4e36b90>"
      ]
     },
     "execution_count": 130,
     "metadata": {},
     "output_type": "execute_result"
    },
    {
     "data": {
      "image/png": "[encoded data removed]",
      "text/plain": [
       "<Figure size 792x504 with 1 Axes>"
      ]
     },
     "metadata": {
      "needs_background": "light"
     },
     "output_type": "display_data"
    }
   ],
   "source": [
    "soma_parcela_por_mdl.plot(kind = 'barh', edgecolor='black')\n",
    "plt.title(\"Soma das Parcelas por Modalidade\", size=25); # Adicionando um título.\n",
    "plt.xlabel('', size=15); # Nomeando o eixo X.\n",
    "plt.ylabel('', size=15); # Nomeando o eixo Y.\n",
    "plt.legend(['Quantidade'], fontsize = 'large', edgecolor = 'black') # Configurando a legenda."
   ]
  },
  {
   "cell_type": "markdown",
   "metadata": {},
   "source": [
    "## Adicionando uma nova coluna (SALDO_DEVEDOR) ao DataFrame temporário."
   ]
  },
  {
   "cell_type": "markdown",
   "metadata": {},
   "source": [
    "### Primeiramente criando uma lista com o resultado da subtração."
   ]
  },
  {
   "cell_type": "code",
   "execution_count": 19,
   "metadata": {},
   "outputs": [
    {
     "data": {
      "text/html": [
       "<div>\n",
       "<style scoped>\n",
       "    .dataframe tbody tr th:only-of-type {\n",
       "        vertical-align: middle;\n",
       "    }\n",
       "\n",
       "    .dataframe tbody tr th {\n",
       "        vertical-align: top;\n",
       "    }\n",
       "\n",
       "    .dataframe thead th {\n",
       "        text-align: right;\n",
       "    }\n",
       "</style>\n",
       "<table border=\"1\" class=\"dataframe\">\n",
       "  <thead>\n",
       "    <tr style=\"text-align: right;\">\n",
       "      <th></th>\n",
       "      <th>VLR_CTRD_CSC</th>\n",
       "      <th>VLR_SDO_DDR</th>\n",
       "      <th>SALDO_DEVEDOR</th>\n",
       "    </tr>\n",
       "  </thead>\n",
       "  <tbody>\n",
       "    <tr>\n",
       "      <th>6</th>\n",
       "      <td>242311.68</td>\n",
       "      <td>147746.41</td>\n",
       "      <td>94565.27</td>\n",
       "    </tr>\n",
       "    <tr>\n",
       "      <th>14</th>\n",
       "      <td>837200.00</td>\n",
       "      <td>611460.76</td>\n",
       "      <td>225739.24</td>\n",
       "    </tr>\n",
       "    <tr>\n",
       "      <th>18</th>\n",
       "      <td>4534094.14</td>\n",
       "      <td>3455692.91</td>\n",
       "      <td>1078401.23</td>\n",
       "    </tr>\n",
       "    <tr>\n",
       "      <th>19</th>\n",
       "      <td>8318873.55</td>\n",
       "      <td>3872932.36</td>\n",
       "      <td>4445941.19</td>\n",
       "    </tr>\n",
       "    <tr>\n",
       "      <th>22</th>\n",
       "      <td>1687200.00</td>\n",
       "      <td>471518.18</td>\n",
       "      <td>1215681.82</td>\n",
       "    </tr>\n",
       "    <tr>\n",
       "      <th>31</th>\n",
       "      <td>322324.54</td>\n",
       "      <td>175493.07</td>\n",
       "      <td>146831.47</td>\n",
       "    </tr>\n",
       "    <tr>\n",
       "      <th>34</th>\n",
       "      <td>5760952.64</td>\n",
       "      <td>3031500.68</td>\n",
       "      <td>2729451.96</td>\n",
       "    </tr>\n",
       "    <tr>\n",
       "      <th>37</th>\n",
       "      <td>5288794.11</td>\n",
       "      <td>2470154.82</td>\n",
       "      <td>2818639.29</td>\n",
       "    </tr>\n",
       "    <tr>\n",
       "      <th>38</th>\n",
       "      <td>4953127.77</td>\n",
       "      <td>2411390.67</td>\n",
       "      <td>2541737.10</td>\n",
       "    </tr>\n",
       "    <tr>\n",
       "      <th>43</th>\n",
       "      <td>67084212.43</td>\n",
       "      <td>59327136.31</td>\n",
       "      <td>7757076.12</td>\n",
       "    </tr>\n",
       "  </tbody>\n",
       "</table>\n",
       "</div>"
      ],
      "text/plain": [
       "    VLR_CTRD_CSC  VLR_SDO_DDR  SALDO_DEVEDOR\n",
       "6      242311.68    147746.41       94565.27\n",
       "14     837200.00    611460.76      225739.24\n",
       "18    4534094.14   3455692.91     1078401.23\n",
       "19    8318873.55   3872932.36     4445941.19\n",
       "22    1687200.00    471518.18     1215681.82\n",
       "31     322324.54    175493.07      146831.47\n",
       "34    5760952.64   3031500.68     2729451.96\n",
       "37    5288794.11   2470154.82     2818639.29\n",
       "38    4953127.77   2411390.67     2541737.10\n",
       "43   67084212.43  59327136.31     7757076.12"
      ]
     },
     "execution_count": 19,
     "metadata": {},
     "output_type": "execute_result"
    }
   ],
   "source": [
    "# Selecionando somente as linhas com o ID_MDL igual a C01 (consórcio).\n",
    "analisar = dados_STG_OPR_ITT[dados_STG_OPR_ITT['ID_MDL'] == 'C01'] \n",
    "analisar = analisar[['VLR_CTRD_CSC', 'VLR_SDO_DDR']] # Selecionando somente as colunas necessárias.\n",
    "\n",
    "total = [] # Lista temporária.\n",
    "\n",
    "for index in analisar.index: # Efeituando a conta e jogando o resultado na lista.\n",
    "    total.append(round(analisar['VLR_CTRD_CSC'][index] - analisar['VLR_SDO_DDR'][index], 2))\n",
    "\n",
    "    \n",
    "analisar['SALDO_DEVEDOR'] = total # Adicionando a lista.\n",
    "analisar.head(10) "
   ]
  },
  {
   "cell_type": "code",
   "execution_count": 16,
   "metadata": {},
   "outputs": [
    {
     "name": "stderr",
     "output_type": "stream",
     "text": [
      "/home/fatality/.local/lib/python3.7/site-packages/ipykernel_launcher.py:9: SettingWithCopyWarning: \n",
      "A value is trying to be set on a copy of a slice from a DataFrame.\n",
      "Try using .loc[row_indexer,col_indexer] = value instead\n",
      "\n",
      "See the caveats in the documentation: https://pandas.pydata.org/pandas-docs/stable/user_guide/indexing.html#returning-a-view-versus-a-copy\n",
      "  if __name__ == '__main__':\n"
     ]
    },
    {
     "data": {
      "text/html": [
       "<div>\n",
       "<style scoped>\n",
       "    .dataframe tbody tr th:only-of-type {\n",
       "        vertical-align: middle;\n",
       "    }\n",
       "\n",
       "    .dataframe tbody tr th {\n",
       "        vertical-align: top;\n",
       "    }\n",
       "\n",
       "    .dataframe thead th {\n",
       "        text-align: right;\n",
       "    }\n",
       "</style>\n",
       "<table border=\"1\" class=\"dataframe\">\n",
       "  <thead>\n",
       "    <tr style=\"text-align: right;\">\n",
       "      <th></th>\n",
       "      <th>VLR_CTRD_CSC</th>\n",
       "      <th>VLR_SDO_DDR</th>\n",
       "      <th>SALDO_DEVEDOR</th>\n",
       "    </tr>\n",
       "  </thead>\n",
       "  <tbody>\n",
       "    <tr>\n",
       "      <th>6</th>\n",
       "      <td>242311.68</td>\n",
       "      <td>147746.41</td>\n",
       "      <td>94565.27</td>\n",
       "    </tr>\n",
       "    <tr>\n",
       "      <th>14</th>\n",
       "      <td>837200.00</td>\n",
       "      <td>611460.76</td>\n",
       "      <td>225739.24</td>\n",
       "    </tr>\n",
       "    <tr>\n",
       "      <th>18</th>\n",
       "      <td>4534094.14</td>\n",
       "      <td>3455692.91</td>\n",
       "      <td>1078401.23</td>\n",
       "    </tr>\n",
       "    <tr>\n",
       "      <th>19</th>\n",
       "      <td>8318873.55</td>\n",
       "      <td>3872932.36</td>\n",
       "      <td>4445941.19</td>\n",
       "    </tr>\n",
       "    <tr>\n",
       "      <th>22</th>\n",
       "      <td>1687200.00</td>\n",
       "      <td>471518.18</td>\n",
       "      <td>1215681.82</td>\n",
       "    </tr>\n",
       "    <tr>\n",
       "      <th>31</th>\n",
       "      <td>322324.54</td>\n",
       "      <td>175493.07</td>\n",
       "      <td>146831.47</td>\n",
       "    </tr>\n",
       "    <tr>\n",
       "      <th>34</th>\n",
       "      <td>5760952.64</td>\n",
       "      <td>3031500.68</td>\n",
       "      <td>2729451.96</td>\n",
       "    </tr>\n",
       "    <tr>\n",
       "      <th>37</th>\n",
       "      <td>5288794.11</td>\n",
       "      <td>2470154.82</td>\n",
       "      <td>2818639.29</td>\n",
       "    </tr>\n",
       "    <tr>\n",
       "      <th>38</th>\n",
       "      <td>4953127.77</td>\n",
       "      <td>2411390.67</td>\n",
       "      <td>2541737.10</td>\n",
       "    </tr>\n",
       "    <tr>\n",
       "      <th>43</th>\n",
       "      <td>67084212.43</td>\n",
       "      <td>59327136.31</td>\n",
       "      <td>7757076.12</td>\n",
       "    </tr>\n",
       "  </tbody>\n",
       "</table>\n",
       "</div>"
      ],
      "text/plain": [
       "    VLR_CTRD_CSC  VLR_SDO_DDR  SALDO_DEVEDOR\n",
       "6      242311.68    147746.41       94565.27\n",
       "14     837200.00    611460.76      225739.24\n",
       "18    4534094.14   3455692.91     1078401.23\n",
       "19    8318873.55   3872932.36     4445941.19\n",
       "22    1687200.00    471518.18     1215681.82\n",
       "31     322324.54    175493.07      146831.47\n",
       "34    5760952.64   3031500.68     2729451.96\n",
       "37    5288794.11   2470154.82     2818639.29\n",
       "38    4953127.77   2411390.67     2541737.10\n",
       "43   67084212.43  59327136.31     7757076.12"
      ]
     },
     "execution_count": 16,
     "metadata": {},
     "output_type": "execute_result"
    }
   ],
   "source": [
    "analisar = dados_STG_OPR_ITT[['VLR_CTRD_CSC', 'VLR_SDO_DDR']] # Colunas necessárias.\n",
    "\n",
    "total = [] # Lista temporária.\n",
    "\n",
    "for index in range(analisar.shape[0]): # Efeituando a conta e jogando o resultado na lista.\n",
    "    total.append(round(analisar['VLR_CTRD_CSC'][index] - analisar['VLR_SDO_DDR'][index], 2))\n",
    "\n",
    "    \n",
    "analisar['SALDO_DEVEDOR'] = total # Adicionando a lista.\n",
    "analisar.dropna().head(10) "
   ]
  },
  {
   "cell_type": "markdown",
   "metadata": {},
   "source": [
    "### Fazendo uma análise simples."
   ]
  },
  {
   "cell_type": "code",
   "execution_count": 21,
   "metadata": {},
   "outputs": [
    {
     "data": {
      "text/html": [
       "<div>\n",
       "<style scoped>\n",
       "    .dataframe tbody tr th:only-of-type {\n",
       "        vertical-align: middle;\n",
       "    }\n",
       "\n",
       "    .dataframe tbody tr th {\n",
       "        vertical-align: top;\n",
       "    }\n",
       "\n",
       "    .dataframe thead th {\n",
       "        text-align: right;\n",
       "    }\n",
       "</style>\n",
       "<table border=\"1\" class=\"dataframe\">\n",
       "  <thead>\n",
       "    <tr style=\"text-align: right;\">\n",
       "      <th></th>\n",
       "      <th>Resultado</th>\n",
       "    </tr>\n",
       "  </thead>\n",
       "  <tbody>\n",
       "    <tr>\n",
       "      <th>Pagos</th>\n",
       "      <td>0</td>\n",
       "    </tr>\n",
       "    <tr>\n",
       "      <th>Acima da média</th>\n",
       "      <td>44</td>\n",
       "    </tr>\n",
       "    <tr>\n",
       "      <th>Abaixo da média</th>\n",
       "      <td>142</td>\n",
       "    </tr>\n",
       "    <tr>\n",
       "      <th>Menor valor R$</th>\n",
       "      <td>2042</td>\n",
       "    </tr>\n",
       "    <tr>\n",
       "      <th>Maior valor R$</th>\n",
       "      <td>58284000</td>\n",
       "    </tr>\n",
       "  </tbody>\n",
       "</table>\n",
       "</div>"
      ],
      "text/plain": [
       "                 Resultado\n",
       "Pagos                    0\n",
       "Acima da média          44\n",
       "Abaixo da média        142\n",
       "Menor valor R$        2042\n",
       "Maior valor R$    58284000"
      ]
     },
     "execution_count": 21,
     "metadata": {},
     "output_type": "execute_result"
    }
   ],
   "source": [
    "media = analisar['SALDO_DEVEDOR'].mean()\n",
    "pago = acima_media = abaixo_media = 0\n",
    "\n",
    "for index in analisar.index:\n",
    "    temp = analisar['SALDO_DEVEDOR'][index]\n",
    "    \n",
    "    if temp <= 0:\n",
    "        pago += 1\n",
    "        \n",
    "    elif temp >= media:\n",
    "        acima_media += 1\n",
    "        \n",
    "    elif temp < media:\n",
    "        abaixo_media += 1\n",
    "        \n",
    "\n",
    "x = ['Pagos', 'Acima da média', 'Abaixo da média', 'Menor valor R$', 'Maior valor R$']\n",
    "\n",
    "temp = pd.DataFrame({'Resultado': [pago, acima_media, abaixo_media, int(analisar['SALDO_DEVEDOR'].min()), \n",
    "                                   int(analisar['SALDO_DEVEDOR'].max())]},\n",
    "                    index = [x])\n",
    "temp"
   ]
  },
  {
   "cell_type": "code",
   "execution_count": 6,
   "metadata": {},
   "outputs": [
    {
     "name": "stdout",
     "output_type": "stream",
     "text": [
      "Data inicial:07/08/2000\n",
      "Data final:08/05/2009\n"
     ]
    },
    {
     "ename": "ValueError",
     "evalue": "unconverted data remains: 00",
     "output_type": "error",
     "traceback": [
      "\u001b[0;31m---------------------------------------------------------------------------\u001b[0m",
      "\u001b[0;31mValueError\u001b[0m                                Traceback (most recent call last)",
      "\u001b[0;32m<ipython-input-6-9745ee171a67>\u001b[0m in \u001b[0;36m<module>\u001b[0;34m\u001b[0m\n\u001b[1;32m      6\u001b[0m \u001b[0;34m\u001b[0m\u001b[0m\n\u001b[1;32m      7\u001b[0m \u001b[0;31m# Convertendo input para datetime.datetime\u001b[0m\u001b[0;34m\u001b[0m\u001b[0;34m\u001b[0m\u001b[0;34m\u001b[0m\u001b[0m\n\u001b[0;32m----> 8\u001b[0;31m \u001b[0mdata_inicial\u001b[0m \u001b[0;34m=\u001b[0m \u001b[0mdatetime\u001b[0m\u001b[0;34m.\u001b[0m\u001b[0mstrptime\u001b[0m\u001b[0;34m(\u001b[0m\u001b[0minput_data_inicial\u001b[0m\u001b[0;34m,\u001b[0m \u001b[0;34m\"%d/%m/%y\"\u001b[0m\u001b[0;34m)\u001b[0m\u001b[0;34m\u001b[0m\u001b[0;34m\u001b[0m\u001b[0m\n\u001b[0m\u001b[1;32m      9\u001b[0m \u001b[0mdata_final\u001b[0m \u001b[0;34m=\u001b[0m \u001b[0mdatetime\u001b[0m\u001b[0;34m.\u001b[0m\u001b[0mstrptime\u001b[0m\u001b[0;34m(\u001b[0m\u001b[0minput_data_final\u001b[0m\u001b[0;34m,\u001b[0m \u001b[0;34m\"%d/%m/%y\"\u001b[0m\u001b[0;34m)\u001b[0m\u001b[0;34m\u001b[0m\u001b[0;34m\u001b[0m\u001b[0m\n\u001b[1;32m     10\u001b[0m \u001b[0;34m\u001b[0m\u001b[0m\n",
      "\u001b[0;32m/usr/lib/python3.7/_strptime.py\u001b[0m in \u001b[0;36m_strptime_datetime\u001b[0;34m(cls, data_string, format)\u001b[0m\n\u001b[1;32m    575\u001b[0m     \"\"\"Return a class cls instance based on the input string and the\n\u001b[1;32m    576\u001b[0m     format string.\"\"\"\n\u001b[0;32m--> 577\u001b[0;31m     \u001b[0mtt\u001b[0m\u001b[0;34m,\u001b[0m \u001b[0mfraction\u001b[0m\u001b[0;34m,\u001b[0m \u001b[0mgmtoff_fraction\u001b[0m \u001b[0;34m=\u001b[0m \u001b[0m_strptime\u001b[0m\u001b[0;34m(\u001b[0m\u001b[0mdata_string\u001b[0m\u001b[0;34m,\u001b[0m \u001b[0mformat\u001b[0m\u001b[0;34m)\u001b[0m\u001b[0;34m\u001b[0m\u001b[0;34m\u001b[0m\u001b[0m\n\u001b[0m\u001b[1;32m    578\u001b[0m     \u001b[0mtzname\u001b[0m\u001b[0;34m,\u001b[0m \u001b[0mgmtoff\u001b[0m \u001b[0;34m=\u001b[0m \u001b[0mtt\u001b[0m\u001b[0;34m[\u001b[0m\u001b[0;34m-\u001b[0m\u001b[0;36m2\u001b[0m\u001b[0;34m:\u001b[0m\u001b[0;34m]\u001b[0m\u001b[0;34m\u001b[0m\u001b[0;34m\u001b[0m\u001b[0m\n\u001b[1;32m    579\u001b[0m     \u001b[0margs\u001b[0m \u001b[0;34m=\u001b[0m \u001b[0mtt\u001b[0m\u001b[0;34m[\u001b[0m\u001b[0;34m:\u001b[0m\u001b[0;36m6\u001b[0m\u001b[0;34m]\u001b[0m \u001b[0;34m+\u001b[0m \u001b[0;34m(\u001b[0m\u001b[0mfraction\u001b[0m\u001b[0;34m,\u001b[0m\u001b[0;34m)\u001b[0m\u001b[0;34m\u001b[0m\u001b[0;34m\u001b[0m\u001b[0m\n",
      "\u001b[0;32m/usr/lib/python3.7/_strptime.py\u001b[0m in \u001b[0;36m_strptime\u001b[0;34m(data_string, format)\u001b[0m\n\u001b[1;32m    360\u001b[0m     \u001b[0;32mif\u001b[0m \u001b[0mlen\u001b[0m\u001b[0;34m(\u001b[0m\u001b[0mdata_string\u001b[0m\u001b[0;34m)\u001b[0m \u001b[0;34m!=\u001b[0m \u001b[0mfound\u001b[0m\u001b[0;34m.\u001b[0m\u001b[0mend\u001b[0m\u001b[0;34m(\u001b[0m\u001b[0;34m)\u001b[0m\u001b[0;34m:\u001b[0m\u001b[0;34m\u001b[0m\u001b[0;34m\u001b[0m\u001b[0m\n\u001b[1;32m    361\u001b[0m         raise ValueError(\"unconverted data remains: %s\" %\n\u001b[0;32m--> 362\u001b[0;31m                           data_string[found.end():])\n\u001b[0m\u001b[1;32m    363\u001b[0m \u001b[0;34m\u001b[0m\u001b[0m\n\u001b[1;32m    364\u001b[0m     \u001b[0miso_year\u001b[0m \u001b[0;34m=\u001b[0m \u001b[0myear\u001b[0m \u001b[0;34m=\u001b[0m \u001b[0;32mNone\u001b[0m\u001b[0;34m\u001b[0m\u001b[0;34m\u001b[0m\u001b[0m\n",
      "\u001b[0;31mValueError\u001b[0m: unconverted data remains: 00"
     ]
    }
   ],
   "source": [
    "from datetime import datetime\n",
    "\n",
    "# Recebendo input do usuário (como string)\n",
    "input_data_inicial = input('Data inicial:')\n",
    "input_data_final = input('Data final:')\n",
    "\n",
    "# Convertendo input para datetime.datetime\n",
    "data_inicial = datetime.strptime(input_data_inicial, \"%d/%m/%y\")\n",
    "data_final = datetime.strptime(input_data_final, \"%d/%m/%y\")\n",
    "\n",
    "# apenas para demonstração atribui um valor 'hard-coded' para data_modificao\n",
    "data_modificacao = datetime.now()\n",
    "\n",
    "print(data_inicial)\n",
    "print(data_final)\n",
    "print(data_modificacao)"
   ]
  },
  {
   "cell_type": "code",
   "execution_count": 5,
   "metadata": {},
   "outputs": [
    {
     "name": "stdout",
     "output_type": "stream",
     "text": [
      "2020-05-14\n"
     ]
    }
   ],
   "source": [
    "from datetime import date\n",
    "\n",
    "data_atual = date.today()\n",
    "print(data_atual)"
   ]
  },
  {
   "cell_type": "code",
   "execution_count": null,
   "metadata": {},
   "outputs": [],
   "source": []
  }
 ],
 "metadata": {
  "kernelspec": {
   "display_name": "Python 3",
   "language": "python",
   "name": "python3"
  },
  "language_info": {
   "codemirror_mode": {
    "name": "ipython",
    "version": 3
   },
   "file_extension": ".py",
   "mimetype": "text/x-python",
   "name": "python",
   "nbconvert_exporter": "python",
   "pygments_lexer": "ipython3",
   "version": "3.7.5"
  }
 },
 "nbformat": 4,
 "nbformat_minor": 4
}
